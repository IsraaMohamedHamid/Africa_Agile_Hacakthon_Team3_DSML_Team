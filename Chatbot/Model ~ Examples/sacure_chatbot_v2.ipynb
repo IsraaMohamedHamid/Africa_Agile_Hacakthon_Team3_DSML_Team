{
 "cells": [
  {
   "cell_type": "code",
   "execution_count": null,
   "metadata": {},
   "outputs": [],
   "source": [
    "import json\n",
    "from googletrans import Translator"
   ]
  },
  {
   "cell_type": "code",
   "execution_count": null,
   "metadata": {},
   "outputs": [],
   "source": [
    "def load_data(json_file):\n",
    "    with open(json_file, 'r', encoding='utf-8') as file:\n",
    "        data = json.load(file)\n",
    "    return data"
   ]
  },
  {
   "cell_type": "code",
   "execution_count": null,
   "metadata": {},
   "outputs": [],
   "source": [
    "def get_response_using_translator(user_input, data, translator):\n",
    "    user_input = user_input.lower().strip()\n",
    "    translated_input = translator.translate(user_input).text\n",
    "    for question in data['questions']:\n",
    "        if translated_input in question['text'].lower():\n",
    "            answer_id = question['id']\n",
    "            for answer in data['answers']:\n",
    "                if answer['id'] == answer_id:\n",
    "                    translated_answer = translator.translate(answer['text']).text\n",
    "                    return translated_answer\n",
    "    return \"I'm sorry, I couldn't find a matching response. Please try again.\""
   ]
  },
  {
   "cell_type": "code",
   "execution_count": null,
   "metadata": {},
   "outputs": [],
   "source": [
    "def main():\n",
    "    data = load_data('domestic_violence_chatbot_data.json')\n",
    "    translator = Translator()\n",
    "\n",
    "    print(\"Chatbot: Hi! I'm here to help you with any questions you have about domestic violence and abuse. You can type 'exit' to end the conversation.\")\n",
    "\n",
    "    while True:\n",
    "        user_input = input(\"You: \")\n",
    "        if user_input.lower() == 'exit':\n",
    "            print(\"Chatbot: Goodbye! Take care.\")\n",
    "            break\n",
    "        response = get_response(user_input, data, translator)\n",
    "        print(\"Chatbot:\", response)"
   ]
  },
  {
   "cell_type": "code",
   "execution_count": 12,
   "metadata": {},
   "outputs": [],
   "source": [
    "if __name__ == \"__main__\":\n",
    "    main()"
   ]
  }
 ],
 "metadata": {
  "kernelspec": {
   "display_name": "base",
   "language": "python",
   "name": "python3"
  },
  "language_info": {
   "codemirror_mode": {
    "name": "ipython",
    "version": 3
   },
   "file_extension": ".py",
   "mimetype": "text/x-python",
   "name": "python",
   "nbconvert_exporter": "python",
   "pygments_lexer": "ipython3",
   "version": "3.10.9"
  },
  "orig_nbformat": 4
 },
 "nbformat": 4,
 "nbformat_minor": 2
}
