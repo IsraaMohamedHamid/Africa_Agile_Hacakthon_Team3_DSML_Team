{
 "cells": [
  {
   "cell_type": "code",
   "execution_count": 2,
   "metadata": {},
   "outputs": [],
   "source": [
    "import random"
   ]
  },
  {
   "cell_type": "code",
   "execution_count": 3,
   "metadata": {},
   "outputs": [],
   "source": [
    "# Define the responses for each language\n",
    "responses = {\n",
    "    \"English\": {\n",
    "        \"greeting\": \"Hi! I'm here to help you with domestic violence and abuse issues.\",\n",
    "        \"language_prompt\": \"Please choose one of the following languages: English, Yoruba, Igbo, or Hausa.\",\n",
    "        \"goodbye\": \"Goodbye! Take care.\",\n",
    "        \"fallback\": \"I'm sorry, I didn't understand that. Can you please rephrase your message?\",\n",
    "        # Add more responses specific to the chatbot in English here\n",
    "    },\n",
    "    \"Yoruba\": {\n",
    "        \"greeting\": \"Bawo ni! Mo wa nibi lati ran yin de ibi ti o tobi to si iteji re ati ipe ti o gbajumo.\",\n",
    "        \"language_prompt\": \"Jọwọ yan awọn agbala ọkọ ti wa: Gẹẹsi, Yoruba, Igbo, tabi Hausa.\",\n",
    "        \"goodbye\": \"Odabo! Kọ o dabi ire.\",\n",
    "        \"fallback\": \"Nwọle, ko mo ti mo. Ṣe o le ṣatunṣe ọrọ rẹ?\",\n",
    "        # Add more responses specific to the chatbot in Yoruba here\n",
    "    },\n",
    "    \"Igbo\": {\n",
    "        \"greeting\": \"Kedu! A dị mma gị. A nata ihe ọ bụla gị na-ekwu na anwụ a nke ọ bụla.\",\n",
    "        \"language_prompt\": \"Biko kwado otu na akwukwo asụsụ anyị: Asụsụ Bekee, Yoruba, Igbo, ma ọ bụ Hausa.\",\n",
    "        \"goodbye\": \"Kedu olee! Gaa nke oma.\",\n",
    "        \"fallback\": \"Ebee ka m jiri gbachara ya, a diri m mmiri. Nwunye kedu ọ bụla rịo ọhụrụ?\",\n",
    "        # Add more responses specific to the chatbot in Igbo here\n",
    "    },\n",
    "    \"Hausa\": {\n",
    "        \"greeting\": \"Sannu! Ina nan domin taimakonka tare da matukar ƙaƙaki da laifi.\",\n",
    "        \"language_prompt\": \"Da fatan za ku iya zaɓi bayanai daga cikin harshe: Turanci, Yoruba, Igbo, ko Hausa.\",\n",
    "        \"goodbye\": \"Sai anjima! Ku kawo lafiya.\",\n",
    "        \"fallback\": \"Ina son, ban fahimci wannan. Ko ku je gaban mai taushin ku?\",\n",
    "        # Add more responses specific to the chatbot in Hausa here\n",
    "    }\n",
    "}"
   ]
  },
  {
   "cell_type": "code",
   "execution_count": 4,
   "metadata": {},
   "outputs": [
    {
     "ename": "ModuleNotFoundError",
     "evalue": "No module named 'detectlanguage'",
     "output_type": "error",
     "traceback": [
      "\u001b[0;31m---------------------------------------------------------------------------\u001b[0m",
      "\u001b[0;31mModuleNotFoundError\u001b[0m                       Traceback (most recent call last)",
      "Cell \u001b[0;32mIn[4], line 1\u001b[0m\n\u001b[0;32m----> 1\u001b[0m \u001b[39mimport\u001b[39;00m \u001b[39mdetectlanguage\u001b[39;00m\n\u001b[1;32m      3\u001b[0m \u001b[39m# Rest of the code remains the same\u001b[39;00m\n\u001b[1;32m      4\u001b[0m \u001b[39m# Function to detect the language of the user's input using langdetect\u001b[39;00m\n\u001b[1;32m      5\u001b[0m \u001b[39mdef\u001b[39;00m \u001b[39mdetect_language\u001b[39m(user_input):\n",
      "\u001b[0;31mModuleNotFoundError\u001b[0m: No module named 'detectlanguage'"
     ]
    }
   ],
   "source": [
    "import detectlanguage\n",
    "\n",
    "# Rest of the code remains the same\n",
    "# Function to detect the language of the user's input using langdetect\n",
    "def detect_language(user_input):\n",
    "    try:\n",
    "        language = detectlanguage.detect(user_input)\n",
    "        return language\n",
    "    except:\n",
    "        # For simplicity, let's assume English is the default language if langdetect fails\n",
    "        return \"English\"\n",
    "\n",
    "# Rest of the code remains the same"
   ]
  },
  {
   "cell_type": "code",
   "execution_count": null,
   "metadata": {},
   "outputs": [],
   "source": [
    "# Function to get the chatbot response\n",
    "def get_response(user_input, language):\n",
    "    # Get the appropriate responses based on the language\n",
    "    lang_responses = responses[language]\n",
    "    \n",
    "    # Check for specific responses based on user input\n",
    "    if \"hello\" in user_input.lower():\n",
    "        return lang_responses[\"greeting\"]\n",
    "    elif \"language\" in user_input.lower():\n",
    "        return lang_responses[\"language_prompt\"]\n",
    "    elif \"goodbye\" in user_input.lower():\n",
    "        return lang_responses[\"goodbye\"]\n",
    "    else:\n",
    "        # Return a fallback response for other queries\n",
    "        return lang_responses[\"fallback\"]"
   ]
  },
  {
   "cell_type": "code",
   "execution_count": null,
   "metadata": {},
   "outputs": [],
   "source": [
    "def main():\n",
    "    print(\"Chatbot:\", responses[\"English\"][\"greeting\"])\n",
    "    print(\"Chatbot:\", responses[\"English\"][\"language_prompt\"])\n",
    "    \n",
    "    while True:\n",
    "        user_input = input(\"You: \")\n",
    "        \n",
    "        # Check if the user wants to exit\n",
    "        if \"exit\" in user_input.lower():\n",
    "            print(\"Chatbot:\", responses[\"English\"][\"goodbye\"])\n",
    "            break\n",
    "        \n",
    "        # Get the language of the user's input\n",
    "        language = detect_language(user_input)\n",
    "        \n",
    "        # Get the chatbot response in the same language\n",
    "        response = get_response(user_input, language)\n",
    "        print(\"Chatbot:\", response)"
   ]
  },
  {
   "cell_type": "code",
   "execution_count": null,
   "metadata": {},
   "outputs": [],
   "source": [
    "if __name__ == \"__main__\":\n",
    "    main()"
   ]
  }
 ],
 "metadata": {
  "kernelspec": {
   "display_name": "base",
   "language": "python",
   "name": "python3"
  },
  "language_info": {
   "codemirror_mode": {
    "name": "ipython",
    "version": 3
   },
   "file_extension": ".py",
   "mimetype": "text/x-python",
   "name": "python",
   "nbconvert_exporter": "python",
   "pygments_lexer": "ipython3",
   "version": "3.10.9"
  },
  "orig_nbformat": 4
 },
 "nbformat": 4,
 "nbformat_minor": 2
}
