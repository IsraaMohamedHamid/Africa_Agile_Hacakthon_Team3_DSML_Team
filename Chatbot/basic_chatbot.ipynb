{
 "cells": [
  {
   "cell_type": "code",
   "execution_count": 1,
   "metadata": {},
   "outputs": [
    {
     "name": "stderr",
     "output_type": "stream",
     "text": [
      "[nltk_data] Downloading package punkt to\n",
      "[nltk_data]     /Users/izzymohamed/nltk_data...\n",
      "[nltk_data]   Package punkt is already up-to-date!\n",
      "[nltk_data] Downloading package stopwords to\n",
      "[nltk_data]     /Users/izzymohamed/nltk_data...\n",
      "[nltk_data]   Package stopwords is already up-to-date!\n"
     ]
    },
    {
     "data": {
      "text/plain": [
       "True"
      ]
     },
     "execution_count": 1,
     "metadata": {},
     "output_type": "execute_result"
    }
   ],
   "source": [
    "import nltk\n",
    "import numpy as np\n",
    "from sklearn.feature_extraction.text import TfidfVectorizer\n",
    "from sklearn.metrics.pairwise import cosine_similarity\n",
    "\n",
    "# Download NLTK data\n",
    "nltk.download('punkt')\n",
    "nltk.download('stopwords')"
   ]
  },
  {
   "cell_type": "code",
   "execution_count": 2,
   "metadata": {},
   "outputs": [],
   "source": [
    "# Predefined responses\n",
    "responses = {\n",
    "    'hello': 'Hello! I\\'m here to help. How can I assist you?',\n",
    "    'help': 'If you or someone you know is experiencing domestic violence or abuse, please consider seeking help from a local support organization or helpline. You can also call emergency services in case of immediate danger.',\n",
    "    'resources': 'Here are some resources you can reach out to for support and assistance:\\n1. National Domestic Violence Hotline: 1-800-799-SAFE (7233)\\n2. Your local women\\'s shelter or crisis center\\n3. Domestic violence support groups in your area',\n",
    "    'contact': 'Please seek help from a local support organization or helpline. They are trained to provide assistance and support in situations like yours.',\n",
    "    'default': 'I\\'m here to support you. Please feel free to ask any questions or seek help if needed.',\n",
    "}\n"
   ]
  },
  {
   "cell_type": "code",
   "execution_count": 3,
   "metadata": {},
   "outputs": [],
   "source": [
    "def preprocess_text(text):\n",
    "    # Tokenize and remove punctuation\n",
    "    tokens = nltk.word_tokenize(text)\n",
    "    words = [word.lower() for word in tokens if word.isalnum()]\n",
    "\n",
    "    # Remove stopwords\n",
    "    stopwords = set(nltk.corpus.stopwords.words('english'))\n",
    "    words = [word for word in words if word not in stopwords]\n",
    "\n",
    "    return ' '.join(words)\n",
    "\n",
    "def get_response(user_input):\n",
    "    user_input = preprocess_text(user_input)\n",
    "\n",
    "    # Compare user input to predefined responses using cosine similarity\n",
    "    vectorizer = TfidfVectorizer()\n",
    "    tfidf_matrix = vectorizer.fit_transform(list(responses.values()) + [user_input])\n",
    "    similarity = cosine_similarity(tfidf_matrix)\n",
    "\n",
    "    # Get the index of the most similar response\n",
    "    response_index = np.argmax(similarity[-1])\n",
    "\n",
    "    return list(responses.keys())[response_index]\n"
   ]
  },
  {
   "cell_type": "code",
   "execution_count": null,
   "metadata": {},
   "outputs": [],
   "source": [
    "def main():\n",
    "    print(\"Chatbot: Hello! I'm here to help. How can I assist you?\")\n",
    "    \n",
    "    while True:\n",
    "        user_input = input(\"You: \")\n",
    "        response = get_response(user_input)\n",
    "\n",
    "        if response == 'exit':\n",
    "            print(\"Chatbot: Goodbye! Take care.\")\n",
    "            break\n",
    "        else:\n",
    "            print(\"Chatbot:\", responses[response])\n",
    "\n",
    "if __name__ == \"__main__\":\n",
    "    main()\n"
   ]
  }
 ],
 "metadata": {
  "kernelspec": {
   "display_name": "base",
   "language": "python",
   "name": "python3"
  },
  "language_info": {
   "codemirror_mode": {
    "name": "ipython",
    "version": 3
   },
   "file_extension": ".py",
   "mimetype": "text/x-python",
   "name": "python",
   "nbconvert_exporter": "python",
   "pygments_lexer": "ipython3",
   "version": "3.10.9"
  },
  "orig_nbformat": 4
 },
 "nbformat": 4,
 "nbformat_minor": 2
}
