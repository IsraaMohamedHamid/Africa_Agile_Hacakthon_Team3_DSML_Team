{
 "cells": [
  {
   "cell_type": "markdown",
   "metadata": {},
   "source": [
    "## 1. Imports"
   ]
  },
  {
   "cell_type": "code",
   "execution_count": 1,
   "metadata": {},
   "outputs": [],
   "source": [
    "import pandas as pd\n",
    "import os\n",
    "import csv"
   ]
  },
  {
   "cell_type": "markdown",
   "metadata": {},
   "source": [
    "## 2. Read Folders "
   ]
  },
  {
   "cell_type": "code",
   "execution_count": 2,
   "metadata": {},
   "outputs": [],
   "source": [
    "# Input:\n",
    "input_folder = '/Users/izzymohamed/Documents/WORK/AFRICA AGILE/Hackathon/afica_agile_team_3_hacakthon_dsml_team/Language Detection System/Dataset ~ Original/'\n",
    "\n",
    "# Output:\n",
    "output_folder = '/Users/izzymohamed/Documents/WORK/AFRICA AGILE/Hackathon/afica_agile_team_3_hacakthon_dsml_team/Language Detection System/Dataset ~ Final'\n",
    "output_csv = 'language_detection_system_dataset.csv'"
   ]
  },
  {
   "cell_type": "markdown",
   "metadata": {},
   "source": [
    "## 3. Convert Txt to CSV"
   ]
  },
  {
   "cell_type": "code",
   "execution_count": 3,
   "metadata": {},
   "outputs": [],
   "source": [
    "def txt_to_csv(input_folder, output_folder, output_file):\n",
    "    \"\"\"\n",
    "    Convert text files to a CSV file with two columns: author and language.\n",
    "\n",
    "    Parameters:\n",
    "        input_folder (str): Path to the folder containing the input text files.\n",
    "        output_folder (str): Path to the folder where the output CSV file will be saved.\n",
    "        output_file (str): Name of the output CSV file.\n",
    "    \"\"\"\n",
    "    output_path = os.path.join(output_folder, output_file)\n",
    "\n",
    "    # Check if the output CSV file already exists\n",
    "    if os.path.isfile(output_path):\n",
    "        print(\"Output CSV file already exists. Deleting and creating a new one.\")\n",
    "        os.remove(output_path)\n",
    "\n",
    "    with open(output_path, 'w', newline='', encoding='utf-8') as csvfile:\n",
    "        writer = csv.writer(csvfile)\n",
    "        writer.writerow(['author', 'language', 'text'])\n",
    "\n",
    "        for filename in os.listdir(input_folder):\n",
    "            if filename.endswith('.txt'):\n",
    "                file_parts = filename.split('_')\n",
    "                if len(file_parts) >= 2:\n",
    "                    author = file_parts[0].lower()  # Extract author from filename\n",
    "                    language = file_parts[1].split('.')[0].lower()  # Extract language from filename\n",
    "                else:\n",
    "                    author = \"unknown\"\n",
    "                    language = file_parts[0].split('.')[0].lower()\n",
    "                    \n",
    "                filepath = os.path.join(input_folder, filename)\n",
    "                with open(filepath, 'r', encoding='utf-8') as txtfile:\n",
    "                    lines = txtfile.readlines()\n",
    "                    for line in lines:\n",
    "                        writer.writerow([author, language, line.strip()])\n"
   ]
  },
  {
   "cell_type": "markdown",
   "metadata": {},
   "source": [
    "## 4. Save Result"
   ]
  },
  {
   "cell_type": "code",
   "execution_count": 4,
   "metadata": {},
   "outputs": [
    {
     "name": "stdout",
     "output_type": "stream",
     "text": [
      "Output CSV file already exists. Deleting and creating a new one.\n"
     ]
    }
   ],
   "source": [
    "txt_to_csv(input_folder, output_folder, output_csv)"
   ]
  }
 ],
 "metadata": {
  "kernelspec": {
   "display_name": "base",
   "language": "python",
   "name": "python3"
  },
  "language_info": {
   "codemirror_mode": {
    "name": "ipython",
    "version": 3
   },
   "file_extension": ".py",
   "mimetype": "text/x-python",
   "name": "python",
   "nbconvert_exporter": "python",
   "pygments_lexer": "ipython3",
   "version": "3.10.9"
  },
  "orig_nbformat": 4
 },
 "nbformat": 4,
 "nbformat_minor": 2
}
