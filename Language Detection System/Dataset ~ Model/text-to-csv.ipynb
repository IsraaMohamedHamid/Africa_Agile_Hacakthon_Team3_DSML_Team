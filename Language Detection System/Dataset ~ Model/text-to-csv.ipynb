{
 "cells": [
  {
   "cell_type": "markdown",
   "metadata": {},
   "source": [
    "## 1. Imports"
   ]
  },
  {
   "cell_type": "code",
   "execution_count": 1,
   "metadata": {},
   "outputs": [],
   "source": [
    "import pandas as pd\n",
    "import os\n",
    "import csv"
   ]
  },
  {
   "cell_type": "markdown",
   "metadata": {},
   "source": [
    "## 2. Read Folders "
   ]
  },
  {
   "cell_type": "code",
   "execution_count": 2,
   "metadata": {},
   "outputs": [],
   "source": [
    "# Input:\n",
    "input_folder = '/Users/izzymohamed/Documents/WORK/AFRICA AGILE/Hackathon/Language Detection System/Data/Original/masakhane/'\n",
    "\n",
    "# Output:\n",
    "output_folder = '/Users/izzymohamed/Documents/WORK/AFRICA AGILE/Hackathon/Language Detection System/Data/Final/masakhane/'\n",
    "output_csv = 'all_masakhane.csv'"
   ]
  },
  {
   "cell_type": "markdown",
   "metadata": {},
   "source": [
    "## 3. Convert Txt to CSV"
   ]
  },
  {
   "cell_type": "code",
   "execution_count": 3,
   "metadata": {},
   "outputs": [],
   "source": [
    "def txt_to_csv(input_folder, output_folder, output_file):\n",
    "    \"\"\"\n",
    "    Convert text files to a CSV file with two columns: language and text.\n",
    "\n",
    "    Parameters:\n",
    "        input_folder (str): Path to the folder containing the input text files.\n",
    "        output_folder (str): Path to the folder where the output CSV file will be saved.\n",
    "        output_file (str): Name of the output CSV file.\n",
    "    \"\"\"\n",
    "    output_path = os.path.join(output_folder, output_file)\n",
    "\n",
    "    # Check if the output CSV file already exists\n",
    "    if os.path.isfile(output_path):\n",
    "        print(\"Output CSV file already exists. Deleting and creating a new one.\")\n",
    "        os.remove(output_path)\n",
    "\n",
    "    with open(output_path, 'w', newline='', encoding='utf-8') as csvfile:\n",
    "        writer = csv.writer(csvfile)\n",
    "        writer.writerow(['language', 'text'])\n",
    "\n",
    "        for filename in os.listdir(input_folder):\n",
    "            if filename.endswith('.txt'):\n",
    "                language = filename.split('.')[0].lower()  # Extract language from filename\n",
    "                filepath = os.path.join(input_folder, filename)\n",
    "                with open(filepath, 'r', encoding='utf-8') as txtfile:\n",
    "                    lines = txtfile.readlines()\n",
    "                    for line in lines:\n",
    "                        writer.writerow([language, line.strip()])"
   ]
  },
  {
   "cell_type": "markdown",
   "metadata": {},
   "source": [
    "## 4. Save Result"
   ]
  },
  {
   "cell_type": "code",
   "execution_count": 4,
   "metadata": {},
   "outputs": [
    {
     "name": "stdout",
     "output_type": "stream",
     "text": [
      "Output CSV file already exists. Deleting and creating a new one.\n"
     ]
    }
   ],
   "source": [
    "txt_to_csv(input_folder, output_folder, output_csv)"
   ]
  }
 ],
 "metadata": {
  "kernelspec": {
   "display_name": "base",
   "language": "python",
   "name": "python3"
  },
  "language_info": {
   "codemirror_mode": {
    "name": "ipython",
    "version": 3
   },
   "file_extension": ".py",
   "mimetype": "text/x-python",
   "name": "python",
   "nbconvert_exporter": "python",
   "pygments_lexer": "ipython3",
   "version": "3.10.9"
  },
  "orig_nbformat": 4
 },
 "nbformat": 4,
 "nbformat_minor": 2
}
