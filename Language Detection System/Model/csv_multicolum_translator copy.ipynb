{
 "cells": [
  {
   "cell_type": "code",
   "execution_count": 18,
   "metadata": {},
   "outputs": [],
   "source": [
    "# pip install googletrans==4.0.0-rc1"
   ]
  },
  {
   "cell_type": "code",
   "execution_count": 19,
   "metadata": {},
   "outputs": [],
   "source": [
    "import os\n",
    "import pandas as pd\n",
    "from googletrans import Translator"
   ]
  },
  {
   "cell_type": "code",
   "execution_count": 20,
   "metadata": {},
   "outputs": [],
   "source": [
    "# Function to perform translation\n",
    "def translate_text(text, target_lang):\n",
    "    \"\"\"\n",
    "    Translates the input text to the specified target language.\n",
    "\n",
    "    Parameters:\n",
    "        text (str): The text to be translated.\n",
    "        target_lang (str): The target language code (e.g., 'yo' for Yoruba, 'ha' for Hausa, 'ig' for Igbo).\n",
    "\n",
    "    Returns:\n",
    "        str: The translated text in the target language.\n",
    "    \"\"\"\n",
    "    # Initialize the translator\n",
    "    translator = Translator()\n",
    "\n",
    "    # Detect the source language of the input text\n",
    "    source_lang = translator.detect(text).lang\n",
    "\n",
    "    # Perform translation\n",
    "    translated_text = translator.translate(text, src=source_lang, dest=target_lang).text\n",
    "\n",
    "    return translated_text"
   ]
  },
  {
   "cell_type": "code",
   "execution_count": 21,
   "metadata": {},
   "outputs": [],
   "source": [
    "# Function to process and translate CSV files\n",
    "def translate_csv_files(input_folder, output_folder, target_lang):\n",
    "    # Get a list of all CSV files in the input folder\n",
    "    csv_files = [file for file in os.listdir(input_folder) if file.endswith('.csv')]\n",
    "\n",
    "    for file in csv_files:\n",
    "        input_file_path = os.path.join(input_folder, file)\n",
    "        output_file_path = os.path.join(output_folder, file)\n",
    "\n",
    "        # Read the CSV file into a pandas DataFrame\n",
    "        df = pd.read_csv(input_file_path)\n",
    "\n",
    "        # Translate the 'text' column\n",
    "        df['text'] = df['text'].apply(lambda x: translate_text(x, target_lang))\n",
    "\n",
    "        # (Optional) Translate the 'label' column if available\n",
    "        if 'label' in df.columns:\n",
    "            df['label'] = df['label'].apply(lambda x: translate_text(x, target_lang))\n",
    "\n",
    "        # Save the translated DataFrame to a new CSV file\n",
    "        df.to_csv(output_file_path, index=False)"
   ]
  },
  {
   "cell_type": "code",
   "execution_count": 22,
   "metadata": {},
   "outputs": [],
   "source": [
    "# Example usage:\n",
    "# text = input(\"Enter text to translate (or 'exit' to quit): \") ## Connect with message sent by user\n",
    "target_language = input(\"Enter text to target language code: \") ## Connect with system language of user recieving message"
   ]
  },
  {
   "cell_type": "code",
   "execution_count": 23,
   "metadata": {},
   "outputs": [
    {
     "name": "stdout",
     "output_type": "stream",
     "text": [
      "Translated Text: Kedu ka ị mere\n"
     ]
    }
   ],
   "source": [
    "# Example usage:\n",
    "input_folder = 'path_to_input_folder'  # Replace with the actual path to the folder containing CSV files\n",
    "output_folder = 'path_to_output_folder'  # Replace with the actual path to the folder to save translated CSV files\n",
    "\n",
    "translate_csv_files(input_folder, output_folder, target_language)"
   ]
  }
 ],
 "metadata": {
  "kernelspec": {
   "display_name": "base",
   "language": "python",
   "name": "python3"
  },
  "language_info": {
   "codemirror_mode": {
    "name": "ipython",
    "version": 3
   },
   "file_extension": ".py",
   "mimetype": "text/x-python",
   "name": "python",
   "nbconvert_exporter": "python",
   "pygments_lexer": "ipython3",
   "version": "3.10.9"
  },
  "orig_nbformat": 4
 },
 "nbformat": 4,
 "nbformat_minor": 2
}
