{
 "cells": [
  {
   "cell_type": "code",
   "execution_count": null,
   "metadata": {},
   "outputs": [],
   "source": [
    "# pip install googletrans==4.0.0-rc1"
   ]
  },
  {
   "cell_type": "code",
   "execution_count": 8,
   "metadata": {},
   "outputs": [],
   "source": [
    "from googletrans import Translator"
   ]
  },
  {
   "cell_type": "code",
   "execution_count": null,
   "metadata": {},
   "outputs": [],
   "source": [
    "# Initialize the Translator object\n",
    "translator = Translator()"
   ]
  },
  {
   "cell_type": "code",
   "execution_count": null,
   "metadata": {},
   "outputs": [],
   "source": [
    "# Function to perform translation\n",
    "def translate_text(text, target_lang):\n",
    "    \"\"\"\n",
    "    Translates the input text to the specified target language.\n",
    "\n",
    "    Parameters:\n",
    "        text (str): The text to be translated.\n",
    "        target_lang (str): The target language code (e.g., 'yo' for Yoruba, 'ha' for Hausa, 'ig' for Igbo).\n",
    "\n",
    "    Returns:\n",
    "        str: The translated text in the target language.\n",
    "    \"\"\"\n",
    "    # Detect the source language of the input text\n",
    "    source_lang = translator.detect(text).lang\n",
    "\n",
    "    # Perform translation\n",
    "    translated_text = translator.translate(text, src=source_lang, dest=target_lang).text\n",
    "\n",
    "    return translated_text"
   ]
  },
  {
   "cell_type": "code",
   "execution_count": null,
   "metadata": {},
   "outputs": [],
   "source": [
    "# Example usage:\n",
    "text = input(\"Enter text to translate (or 'exit' to quit): \") ## Connect with message sent by user\n",
    "target_lang = input(\"Enter text to target language code (en, yo, ha, ig): \") ## Connect with system language of user recieving message"
   ]
  },
  {
   "cell_type": "code",
   "execution_count": 17,
   "metadata": {},
   "outputs": [
    {
     "name": "stdout",
     "output_type": "stream",
     "text": [
      "Translated Text: Hey how are you\n"
     ]
    }
   ],
   "source": [
    "translated_text = translate_text(text, target_lang)\n",
    "print(\"Translated Text:\", translated_text)"
   ]
  }
 ],
 "metadata": {
  "kernelspec": {
   "display_name": "base",
   "language": "python",
   "name": "python3"
  },
  "language_info": {
   "codemirror_mode": {
    "name": "ipython",
    "version": 3
   },
   "file_extension": ".py",
   "mimetype": "text/x-python",
   "name": "python",
   "nbconvert_exporter": "python",
   "pygments_lexer": "ipython3",
   "version": "3.10.9"
  },
  "orig_nbformat": 4
 },
 "nbformat": 4,
 "nbformat_minor": 2
}
