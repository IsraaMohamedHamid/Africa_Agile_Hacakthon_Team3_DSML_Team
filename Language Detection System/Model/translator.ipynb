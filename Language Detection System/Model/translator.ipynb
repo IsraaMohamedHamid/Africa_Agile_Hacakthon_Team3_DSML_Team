{
 "cells": [
  {
   "cell_type": "code",
   "execution_count": 1,
   "metadata": {},
   "outputs": [],
   "source": [
    "# pip install googletrans==4.0.0-rc1"
   ]
  },
  {
   "cell_type": "code",
   "execution_count": 1,
   "metadata": {},
   "outputs": [
    {
     "ename": "ImportError",
     "evalue": "cannot import name 'builder' from 'google.protobuf.internal' (/Users/izzymohamed/miniconda/lib/python3.10/site-packages/google/protobuf/internal/__init__.py)",
     "output_type": "error",
     "traceback": [
      "\u001b[0;31m---------------------------------------------------------------------------\u001b[0m",
      "\u001b[0;31mImportError\u001b[0m                               Traceback (most recent call last)",
      "Cell \u001b[0;32mIn[1], line 1\u001b[0m\n\u001b[0;32m----> 1\u001b[0m \u001b[39mimport\u001b[39;00m \u001b[39mstreamlit\u001b[39;00m \u001b[39mas\u001b[39;00m \u001b[39mst\u001b[39;00m\n\u001b[1;32m      2\u001b[0m \u001b[39mfrom\u001b[39;00m \u001b[39mgoogletrans\u001b[39;00m \u001b[39mimport\u001b[39;00m Translator\n",
      "File \u001b[0;32m~/miniconda/lib/python3.10/site-packages/streamlit/__init__.py:55\u001b[0m\n\u001b[1;32m     52\u001b[0m \u001b[39m# Give the package a version.\u001b[39;00m\n\u001b[1;32m     53\u001b[0m __version__ \u001b[39m=\u001b[39m _STREAMLIT_VERSION_STRING\n\u001b[0;32m---> 55\u001b[0m \u001b[39mfrom\u001b[39;00m \u001b[39mstreamlit\u001b[39;00m\u001b[39m.\u001b[39;00m\u001b[39mdelta_generator\u001b[39;00m \u001b[39mimport\u001b[39;00m DeltaGenerator \u001b[39mas\u001b[39;00m _DeltaGenerator\n\u001b[1;32m     56\u001b[0m \u001b[39mfrom\u001b[39;00m \u001b[39mstreamlit\u001b[39;00m\u001b[39m.\u001b[39;00m\u001b[39mproto\u001b[39;00m\u001b[39m.\u001b[39;00m\u001b[39mRootContainer_pb2\u001b[39;00m \u001b[39mimport\u001b[39;00m RootContainer \u001b[39mas\u001b[39;00m _RootContainer\n\u001b[1;32m     57\u001b[0m \u001b[39mfrom\u001b[39;00m \u001b[39mstreamlit\u001b[39;00m\u001b[39m.\u001b[39;00m\u001b[39mruntime\u001b[39;00m\u001b[39m.\u001b[39;00m\u001b[39mcaching\u001b[39;00m \u001b[39mimport\u001b[39;00m (\n\u001b[1;32m     58\u001b[0m     cache_resource \u001b[39mas\u001b[39;00m _cache_resource,\n\u001b[1;32m     59\u001b[0m     cache_data \u001b[39mas\u001b[39;00m _cache_data,\n\u001b[1;32m     60\u001b[0m     experimental_singleton \u001b[39mas\u001b[39;00m _experimental_singleton,\n\u001b[1;32m     61\u001b[0m     experimental_memo \u001b[39mas\u001b[39;00m _experimental_memo,\n\u001b[1;32m     62\u001b[0m )\n",
      "File \u001b[0;32m~/miniconda/lib/python3.10/site-packages/streamlit/delta_generator.py:36\u001b[0m\n\u001b[1;32m     33\u001b[0m \u001b[39mimport\u001b[39;00m \u001b[39mclick\u001b[39;00m\n\u001b[1;32m     34\u001b[0m \u001b[39mfrom\u001b[39;00m \u001b[39mtyping_extensions\u001b[39;00m \u001b[39mimport\u001b[39;00m Final, Literal\n\u001b[0;32m---> 36\u001b[0m \u001b[39mfrom\u001b[39;00m \u001b[39mstreamlit\u001b[39;00m \u001b[39mimport\u001b[39;00m config, cursor, env_util, logger, runtime, type_util, util\n\u001b[1;32m     37\u001b[0m \u001b[39mfrom\u001b[39;00m \u001b[39mstreamlit\u001b[39;00m\u001b[39m.\u001b[39;00m\u001b[39mcursor\u001b[39;00m \u001b[39mimport\u001b[39;00m Cursor\n\u001b[1;32m     38\u001b[0m \u001b[39mfrom\u001b[39;00m \u001b[39mstreamlit\u001b[39;00m\u001b[39m.\u001b[39;00m\u001b[39melements\u001b[39;00m\u001b[39m.\u001b[39;00m\u001b[39malert\u001b[39;00m \u001b[39mimport\u001b[39;00m AlertMixin\n",
      "File \u001b[0;32m~/miniconda/lib/python3.10/site-packages/streamlit/cursor.py:18\u001b[0m\n\u001b[1;32m     15\u001b[0m \u001b[39mfrom\u001b[39;00m \u001b[39mtyping\u001b[39;00m \u001b[39mimport\u001b[39;00m Any, List, Optional, Tuple\n\u001b[1;32m     17\u001b[0m \u001b[39mfrom\u001b[39;00m \u001b[39mstreamlit\u001b[39;00m \u001b[39mimport\u001b[39;00m util\n\u001b[0;32m---> 18\u001b[0m \u001b[39mfrom\u001b[39;00m \u001b[39mstreamlit\u001b[39;00m\u001b[39m.\u001b[39;00m\u001b[39mruntime\u001b[39;00m\u001b[39m.\u001b[39;00m\u001b[39mscriptrunner\u001b[39;00m \u001b[39mimport\u001b[39;00m get_script_run_ctx\n\u001b[1;32m     21\u001b[0m \u001b[39mdef\u001b[39;00m \u001b[39mmake_delta_path\u001b[39m(\n\u001b[1;32m     22\u001b[0m     root_container: \u001b[39mint\u001b[39m, parent_path: Tuple[\u001b[39mint\u001b[39m, \u001b[39m.\u001b[39m\u001b[39m.\u001b[39m\u001b[39m.\u001b[39m], index: \u001b[39mint\u001b[39m\n\u001b[1;32m     23\u001b[0m ) \u001b[39m-\u001b[39m\u001b[39m>\u001b[39m List[\u001b[39mint\u001b[39m]:\n\u001b[1;32m     24\u001b[0m     delta_path \u001b[39m=\u001b[39m [root_container]\n",
      "File \u001b[0;32m~/miniconda/lib/python3.10/site-packages/streamlit/runtime/__init__.py:16\u001b[0m\n\u001b[1;32m      1\u001b[0m \u001b[39m# Copyright (c) Streamlit Inc. (2018-2022) Snowflake Inc. (2022)\u001b[39;00m\n\u001b[1;32m      2\u001b[0m \u001b[39m#\u001b[39;00m\n\u001b[1;32m      3\u001b[0m \u001b[39m# Licensed under the Apache License, Version 2.0 (the \"License\");\u001b[39;00m\n\u001b[0;32m   (...)\u001b[0m\n\u001b[1;32m     14\u001b[0m \n\u001b[1;32m     15\u001b[0m \u001b[39m# Explicitly re-export public symbols from runtime.py and session_manager.py\u001b[39;00m\n\u001b[0;32m---> 16\u001b[0m \u001b[39mfrom\u001b[39;00m \u001b[39mstreamlit\u001b[39;00m\u001b[39m.\u001b[39;00m\u001b[39mruntime\u001b[39;00m\u001b[39m.\u001b[39;00m\u001b[39mruntime\u001b[39;00m \u001b[39mimport\u001b[39;00m Runtime \u001b[39mas\u001b[39;00m Runtime\n\u001b[1;32m     17\u001b[0m \u001b[39mfrom\u001b[39;00m \u001b[39mstreamlit\u001b[39;00m\u001b[39m.\u001b[39;00m\u001b[39mruntime\u001b[39;00m\u001b[39m.\u001b[39;00m\u001b[39mruntime\u001b[39;00m \u001b[39mimport\u001b[39;00m RuntimeConfig \u001b[39mas\u001b[39;00m RuntimeConfig\n\u001b[1;32m     18\u001b[0m \u001b[39mfrom\u001b[39;00m \u001b[39mstreamlit\u001b[39;00m\u001b[39m.\u001b[39;00m\u001b[39mruntime\u001b[39;00m\u001b[39m.\u001b[39;00m\u001b[39mruntime\u001b[39;00m \u001b[39mimport\u001b[39;00m RuntimeState \u001b[39mas\u001b[39;00m RuntimeState\n",
      "File \u001b[0;32m~/miniconda/lib/python3.10/site-packages/streamlit/runtime/runtime.py:29\u001b[0m\n\u001b[1;32m     27\u001b[0m \u001b[39mfrom\u001b[39;00m \u001b[39mstreamlit\u001b[39;00m \u001b[39mimport\u001b[39;00m config\n\u001b[1;32m     28\u001b[0m \u001b[39mfrom\u001b[39;00m \u001b[39mstreamlit\u001b[39;00m\u001b[39m.\u001b[39;00m\u001b[39mlogger\u001b[39;00m \u001b[39mimport\u001b[39;00m get_logger\n\u001b[0;32m---> 29\u001b[0m \u001b[39mfrom\u001b[39;00m \u001b[39mstreamlit\u001b[39;00m\u001b[39m.\u001b[39;00m\u001b[39mproto\u001b[39;00m\u001b[39m.\u001b[39;00m\u001b[39mBackMsg_pb2\u001b[39;00m \u001b[39mimport\u001b[39;00m BackMsg\n\u001b[1;32m     30\u001b[0m \u001b[39mfrom\u001b[39;00m \u001b[39mstreamlit\u001b[39;00m\u001b[39m.\u001b[39;00m\u001b[39mproto\u001b[39;00m\u001b[39m.\u001b[39;00m\u001b[39mForwardMsg_pb2\u001b[39;00m \u001b[39mimport\u001b[39;00m ForwardMsg\n\u001b[1;32m     31\u001b[0m \u001b[39mfrom\u001b[39;00m \u001b[39mstreamlit\u001b[39;00m\u001b[39m.\u001b[39;00m\u001b[39mruntime\u001b[39;00m\u001b[39m.\u001b[39;00m\u001b[39mapp_session\u001b[39;00m \u001b[39mimport\u001b[39;00m AppSession\n",
      "File \u001b[0;32m~/miniconda/lib/python3.10/site-packages/streamlit/proto/BackMsg_pb2.py:5\u001b[0m\n\u001b[1;32m      1\u001b[0m \u001b[39m# -*- coding: utf-8 -*-\u001b[39;00m\n\u001b[1;32m      2\u001b[0m \u001b[39m# Generated by the protocol buffer compiler.  DO NOT EDIT!\u001b[39;00m\n\u001b[1;32m      3\u001b[0m \u001b[39m# source: streamlit/proto/BackMsg.proto\u001b[39;00m\n\u001b[1;32m      4\u001b[0m \u001b[39m\"\"\"Generated protocol buffer code.\"\"\"\u001b[39;00m\n\u001b[0;32m----> 5\u001b[0m \u001b[39mfrom\u001b[39;00m \u001b[39mgoogle\u001b[39;00m\u001b[39m.\u001b[39;00m\u001b[39mprotobuf\u001b[39;00m\u001b[39m.\u001b[39;00m\u001b[39minternal\u001b[39;00m \u001b[39mimport\u001b[39;00m builder \u001b[39mas\u001b[39;00m _builder\n\u001b[1;32m      6\u001b[0m \u001b[39mfrom\u001b[39;00m \u001b[39mgoogle\u001b[39;00m\u001b[39m.\u001b[39;00m\u001b[39mprotobuf\u001b[39;00m \u001b[39mimport\u001b[39;00m descriptor \u001b[39mas\u001b[39;00m _descriptor\n\u001b[1;32m      7\u001b[0m \u001b[39mfrom\u001b[39;00m \u001b[39mgoogle\u001b[39;00m\u001b[39m.\u001b[39;00m\u001b[39mprotobuf\u001b[39;00m \u001b[39mimport\u001b[39;00m descriptor_pool \u001b[39mas\u001b[39;00m _descriptor_pool\n",
      "\u001b[0;31mImportError\u001b[0m: cannot import name 'builder' from 'google.protobuf.internal' (/Users/izzymohamed/miniconda/lib/python3.10/site-packages/google/protobuf/internal/__init__.py)"
     ]
    }
   ],
   "source": [
    "import streamlit as st\n",
    "from googletrans import Translator"
   ]
  },
  {
   "cell_type": "code",
   "execution_count": 3,
   "metadata": {},
   "outputs": [],
   "source": [
    "# Initialize the Translator object\n",
    "translator = Translator()"
   ]
  },
  {
   "cell_type": "code",
   "execution_count": 4,
   "metadata": {},
   "outputs": [],
   "source": [
    "# Function to perform translation\n",
    "def translate_text(text, target_lang):\n",
    "    \"\"\"\n",
    "    Translates the input text to the specified target language.\n",
    "\n",
    "    Parameters:\n",
    "        text (str): The text to be translated.\n",
    "        target_lang (str): The target language code (e.g., 'yo' for Yoruba, 'ha' for Hausa, 'ig' for Igbo).\n",
    "\n",
    "    Returns:\n",
    "        str: The translated text in the target language.\n",
    "    \"\"\"\n",
    "    # Detect the source language of the input text\n",
    "    source_lang = translator.detect(text).lang\n",
    "\n",
    "    # Perform translation\n",
    "    translated_text = translator.translate(text, src=source_lang, dest=target_lang).text\n",
    "\n",
    "    return translated_text"
   ]
  },
  {
   "cell_type": "code",
   "execution_count": null,
   "metadata": {},
   "outputs": [],
   "source": [
    "# Function to get the full language name based on the language code\n",
    "def get_language_name(lang_code):\n",
    "    lang_dict = {\n",
    "        'af': 'Afrikaans',\n",
    "        'ar': 'Arabic',\n",
    "        'ny': 'Nyanja',\n",
    "        'en': 'English',\n",
    "        'fr': 'French',\n",
    "        'ha': 'Hausa',\n",
    "        'ig': 'Igbo',\n",
    "        'mg': 'Malagasy',\n",
    "        'st': 'Sesotho',\n",
    "        'sn': 'Shona',\n",
    "        'so': 'Somali',\n",
    "        'su': 'Sundanese',\n",
    "        'sw': 'Swahili',\n",
    "        'xh': 'Xhosa',\n",
    "        'yo': 'Yoruba',\n",
    "        'zu': 'Zulu',\n",
    "    }\n",
    "    return lang_dict.get(lang_code, '')"
   ]
  },
  {
   "cell_type": "code",
   "execution_count": null,
   "metadata": {},
   "outputs": [],
   "source": [
    "def main():\n",
    "    st.title(\"Text Translator\")\n",
    "    st.write(\"Enter text to translate and select the target language from the dropdown.\")\n",
    "\n",
    "    # Input text from the user\n",
    "    text = st.text_area(\"Enter text to translate:\", value=\"\")\n",
    "\n",
    "    # Target language selection\n",
    "    target_lang_code = st.selectbox(\n",
    "        \"Select the target language:\",\n",
    "        options=['af', 'ar', 'ny', 'en', 'fr', 'ha', 'ig', 'mg', 'st', 'sn', 'so', 'su', 'sw', 'xh', 'yo', 'zu'],\n",
    "        format_func=get_language_name,  # Display full language name\n",
    "        index=0\n",
    "    )\n",
    "\n",
    "    if st.button(\"Translate\"):\n",
    "        if text.strip():\n",
    "            translated_text = translate_text(text, target_lang_code)\n",
    "            st.write(\"Translated Text:\", translated_text)\n",
    "        else:\n",
    "            st.warning(\"Please enter some text to translate.\")"
   ]
  },
  {
   "cell_type": "code",
   "execution_count": null,
   "metadata": {},
   "outputs": [],
   "source": [
    "if __name__ == \"__main__\":\n",
    "    main()"
   ]
  },
  {
   "cell_type": "code",
   "execution_count": 7,
   "metadata": {},
   "outputs": [],
   "source": [
    "# Example usage:\n",
    "text = input(\"Enter text to translate (or 'exit' to quit): \") ## Connect with message sent by user\n",
    "target_lang = input(\"Enter text to target language code (en, yo, ha, ig): \") ## Connect with system language of user recieving message"
   ]
  },
  {
   "cell_type": "code",
   "execution_count": 8,
   "metadata": {},
   "outputs": [
    {
     "name": "stdout",
     "output_type": "stream",
     "text": [
      "Translated Text: 안녕하세요. 잘 지내죠?\n"
     ]
    }
   ],
   "source": [
    "translated_text = translate_text(text, target_lang)\n",
    "print(\"Translated Text:\", translated_text)"
   ]
  }
 ],
 "metadata": {
  "kernelspec": {
   "display_name": "base",
   "language": "python",
   "name": "python3"
  },
  "language_info": {
   "codemirror_mode": {
    "name": "ipython",
    "version": 3
   },
   "file_extension": ".py",
   "mimetype": "text/x-python",
   "name": "python",
   "nbconvert_exporter": "python",
   "pygments_lexer": "ipython3",
   "version": "3.10.9"
  },
  "orig_nbformat": 4
 },
 "nbformat": 4,
 "nbformat_minor": 2
}
