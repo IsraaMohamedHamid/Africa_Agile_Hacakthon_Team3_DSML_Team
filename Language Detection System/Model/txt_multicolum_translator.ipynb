{
 "cells": [
  {
   "cell_type": "code",
   "execution_count": 1,
   "metadata": {},
   "outputs": [],
   "source": [
    "# pip install googletrans==4.0.0-rc1"
   ]
  },
  {
   "cell_type": "code",
   "execution_count": 2,
   "metadata": {},
   "outputs": [],
   "source": [
    "import os\n",
    "from googletrans import Translator"
   ]
  },
  {
   "cell_type": "code",
   "execution_count": 3,
   "metadata": {},
   "outputs": [],
   "source": [
    "# Function to perform translation\n",
    "def translate_text(text, target_lang):\n",
    "    \"\"\"\n",
    "    Translates the input text to the specified target language.\n",
    "\n",
    "    Parameters:\n",
    "        text (str): The text to be translated.\n",
    "        target_lang (str): The target language code (e.g., 'yo' for Yoruba, 'ha' for Hausa, 'ig' for Igbo).\n",
    "\n",
    "    Returns:\n",
    "        str: The translated text in the target language.\n",
    "    \"\"\"\n",
    "    # Initialize the translator\n",
    "    translator = Translator()\n",
    "\n",
    "    try:\n",
    "        # Detect the source language of the input text\n",
    "        source_lang = translator.detect(text).lang\n",
    "\n",
    "        # Perform translation\n",
    "        translated_text = translator.translate(text, src=source_lang, dest=target_lang).text\n",
    "\n",
    "        return translated_text\n",
    "    except Exception as e:\n",
    "        print(\"Translation Error:\", e)\n",
    "        return text  # Return the original text in case of an error"
   ]
  },
  {
   "cell_type": "code",
   "execution_count": 4,
   "metadata": {},
   "outputs": [],
   "source": [
    "# Function to process and translate text files\n",
    "def translate_txt_files(input_folder, output_folder, target_lang):\n",
    "    # Get a list of all text files in the input folder\n",
    "    txt_files = [file for file in os.listdir(input_folder) if file.endswith('.txt')]\n",
    "\n",
    "    for file in txt_files:\n",
    "        input_file_path = os.path.join(input_folder, file)\n",
    "        output_file_path = os.path.join(output_folder, file)\n",
    "\n",
    "        # Read the text file and preserve blank lines and new lines\n",
    "        with open(input_file_path, 'r', encoding='utf-8') as f:\n",
    "            lines = f.readlines()\n",
    "\n",
    "        # Translate sentences and store in a list\n",
    "        translated_lines = []\n",
    "        for line in lines:\n",
    "            translated_line = translate_text(line.strip(), target_lang)\n",
    "            translated_lines.append(translated_line)\n",
    "\n",
    "        # Save the translated lines to a new text file while preserving blank lines and new lines\n",
    "        with open(output_file_path, 'w', encoding='utf-8') as f:\n",
    "            f.write(''.join(translated_lines))"
   ]
  },
  {
   "cell_type": "code",
   "execution_count": 5,
   "metadata": {},
   "outputs": [],
   "source": [
    "# Example usage:\n",
    "input_folder = '/Users/izzymohamed/Documents/WORK/AFRICA AGILE/Hackathon/afica_agile_team_3_hacakthon_dsml_team/Chatbot/Data ~ Original'  # Replace with the actual path to the folder containing input text files\n",
    "output_folder = '/Users/izzymohamed/Documents/WORK/AFRICA AGILE/Hackathon/afica_agile_team_3_hacakthon_dsml_team/Chatbot/Data ~ Translated'  # Replace with the actual path to the folder to save translated text files\n",
    "target_language = input(\"Enter the target language code: \")"
   ]
  },
  {
   "cell_type": "code",
   "execution_count": 6,
   "metadata": {},
   "outputs": [
    {
     "name": "stdout",
     "output_type": "stream",
     "text": [
      "Translation Error: the JSON object must be str, bytes or bytearray, not NoneType\n",
      "Translation Error: the JSON object must be str, bytes or bytearray, not NoneType\n",
      "Translation Error: the JSON object must be str, bytes or bytearray, not NoneType\n",
      "Translation Error: the JSON object must be str, bytes or bytearray, not NoneType\n",
      "Translation Error: the JSON object must be str, bytes or bytearray, not NoneType\n",
      "Translation Error: the JSON object must be str, bytes or bytearray, not NoneType\n",
      "Translation Error: the JSON object must be str, bytes or bytearray, not NoneType\n",
      "Translation Error: the JSON object must be str, bytes or bytearray, not NoneType\n",
      "Translation Error: the JSON object must be str, bytes or bytearray, not NoneType\n",
      "Translation Error: the JSON object must be str, bytes or bytearray, not NoneType\n",
      "Translation Error: the JSON object must be str, bytes or bytearray, not NoneType\n",
      "Translation Error: the JSON object must be str, bytes or bytearray, not NoneType\n",
      "Translation Error: the JSON object must be str, bytes or bytearray, not NoneType\n",
      "Translation Error: the JSON object must be str, bytes or bytearray, not NoneType\n",
      "Translation Error: the JSON object must be str, bytes or bytearray, not NoneType\n",
      "Translation Error: the JSON object must be str, bytes or bytearray, not NoneType\n",
      "Translation Error: the JSON object must be str, bytes or bytearray, not NoneType\n",
      "Translation Error: the JSON object must be str, bytes or bytearray, not NoneType\n",
      "Translation Error: the JSON object must be str, bytes or bytearray, not NoneType\n",
      "Translation Error: the JSON object must be str, bytes or bytearray, not NoneType\n",
      "Translation Error: the JSON object must be str, bytes or bytearray, not NoneType\n",
      "Translation Error: the JSON object must be str, bytes or bytearray, not NoneType\n",
      "Translation Error: the JSON object must be str, bytes or bytearray, not NoneType\n",
      "Translation Error: the JSON object must be str, bytes or bytearray, not NoneType\n",
      "Translation Error: the JSON object must be str, bytes or bytearray, not NoneType\n",
      "Translation Error: the JSON object must be str, bytes or bytearray, not NoneType\n",
      "Translation Error: the JSON object must be str, bytes or bytearray, not NoneType\n",
      "Translation Error: the JSON object must be str, bytes or bytearray, not NoneType\n",
      "Translation Error: the JSON object must be str, bytes or bytearray, not NoneType\n",
      "Translation Error: the JSON object must be str, bytes or bytearray, not NoneType\n",
      "Translation Error: the JSON object must be str, bytes or bytearray, not NoneType\n",
      "Translation Error: the JSON object must be str, bytes or bytearray, not NoneType\n",
      "Translation Error: the JSON object must be str, bytes or bytearray, not NoneType\n",
      "Translation Error: the JSON object must be str, bytes or bytearray, not NoneType\n",
      "Translation Error: the JSON object must be str, bytes or bytearray, not NoneType\n",
      "Translation Error: the JSON object must be str, bytes or bytearray, not NoneType\n",
      "Translation Error: the JSON object must be str, bytes or bytearray, not NoneType\n",
      "Translation Error: the JSON object must be str, bytes or bytearray, not NoneType\n",
      "Translation Error: the JSON object must be str, bytes or bytearray, not NoneType\n",
      "Translation Error: the JSON object must be str, bytes or bytearray, not NoneType\n",
      "Translation Error: the JSON object must be str, bytes or bytearray, not NoneType\n",
      "Translation Error: the JSON object must be str, bytes or bytearray, not NoneType\n",
      "Translation Error: the JSON object must be str, bytes or bytearray, not NoneType\n",
      "Translation Error: the JSON object must be str, bytes or bytearray, not NoneType\n",
      "Translation Error: the JSON object must be str, bytes or bytearray, not NoneType\n",
      "Translation Error: the JSON object must be str, bytes or bytearray, not NoneType\n",
      "Translation Error: the JSON object must be str, bytes or bytearray, not NoneType\n",
      "Translation Error: the JSON object must be str, bytes or bytearray, not NoneType\n",
      "Translation Error: the JSON object must be str, bytes or bytearray, not NoneType\n",
      "Translation Error: the JSON object must be str, bytes or bytearray, not NoneType\n",
      "Translation Error: the JSON object must be str, bytes or bytearray, not NoneType\n",
      "Translation Error: the JSON object must be str, bytes or bytearray, not NoneType\n",
      "Translation Error: the JSON object must be str, bytes or bytearray, not NoneType\n",
      "Translation Error: the JSON object must be str, bytes or bytearray, not NoneType\n",
      "Translation Error: the JSON object must be str, bytes or bytearray, not NoneType\n",
      "Translation Error: the JSON object must be str, bytes or bytearray, not NoneType\n",
      "Translation Error: the JSON object must be str, bytes or bytearray, not NoneType\n",
      "Translation Error: the JSON object must be str, bytes or bytearray, not NoneType\n",
      "Translation Error: the JSON object must be str, bytes or bytearray, not NoneType\n",
      "Translation Error: the JSON object must be str, bytes or bytearray, not NoneType\n",
      "Translation Error: the JSON object must be str, bytes or bytearray, not NoneType\n",
      "Translation Error: the JSON object must be str, bytes or bytearray, not NoneType\n",
      "Translation Error: the JSON object must be str, bytes or bytearray, not NoneType\n",
      "Translation Error: the JSON object must be str, bytes or bytearray, not NoneType\n",
      "Translation Error: the JSON object must be str, bytes or bytearray, not NoneType\n",
      "Translation Error: the JSON object must be str, bytes or bytearray, not NoneType\n",
      "Translation Error: the JSON object must be str, bytes or bytearray, not NoneType\n",
      "Translation Error: the JSON object must be str, bytes or bytearray, not NoneType\n",
      "Translation Error: the JSON object must be str, bytes or bytearray, not NoneType\n",
      "Translation Error: the JSON object must be str, bytes or bytearray, not NoneType\n",
      "Translation Error: the JSON object must be str, bytes or bytearray, not NoneType\n",
      "Translation Error: the JSON object must be str, bytes or bytearray, not NoneType\n",
      "Translation Error: the JSON object must be str, bytes or bytearray, not NoneType\n",
      "Translation Error: the JSON object must be str, bytes or bytearray, not NoneType\n",
      "Translation Error: the JSON object must be str, bytes or bytearray, not NoneType\n",
      "Translation Error: the JSON object must be str, bytes or bytearray, not NoneType\n",
      "Translation Error: the JSON object must be str, bytes or bytearray, not NoneType\n",
      "Translation Error: the JSON object must be str, bytes or bytearray, not NoneType\n",
      "Translation Error: the JSON object must be str, bytes or bytearray, not NoneType\n",
      "Translation Error: the JSON object must be str, bytes or bytearray, not NoneType\n",
      "Translation Error: the JSON object must be str, bytes or bytearray, not NoneType\n",
      "Translation Error: the JSON object must be str, bytes or bytearray, not NoneType\n"
     ]
    }
   ],
   "source": [
    "translate_txt_files(input_folder, output_folder, target_language)"
   ]
  }
 ],
 "metadata": {
  "kernelspec": {
   "display_name": "base",
   "language": "python",
   "name": "python3"
  },
  "language_info": {
   "codemirror_mode": {
    "name": "ipython",
    "version": 3
   },
   "file_extension": ".py",
   "mimetype": "text/x-python",
   "name": "python",
   "nbconvert_exporter": "python",
   "pygments_lexer": "ipython3",
   "version": "3.11.4"
  },
  "orig_nbformat": 4
 },
 "nbformat": 4,
 "nbformat_minor": 2
}
