{
 "cells": [
  {
   "cell_type": "code",
   "execution_count": 21,
   "metadata": {},
   "outputs": [
    {
     "name": "stdout",
     "output_type": "stream",
     "text": [
      "pygame 2.5.0 (SDL 2.28.0, Python 3.10.9)\n",
      "Hello from the pygame community. https://www.pygame.org/contribute.html\n"
     ]
    }
   ],
   "source": [
    "# convert text to mp3 file\n",
    "# pip3 install gTTS\n",
    "from pprint import pprint\n",
    "from googletrans import Translator, constants\n",
    "from pygame import mixer  # Playing sound\n",
    "from gtts import gTTS  # Googles Text to speech\n",
    "from io import BytesIO\n",
    "import pygame._sdl2 as sdl2\n",
    "import pygame\n",
    "# from pygame._sdl2 import get_num_audio_devices, get_audio_device_name #Get playback device names"
   ]
  },
  {
   "cell_type": "code",
   "execution_count": 26,
   "metadata": {},
   "outputs": [],
   "source": [
    "# USE GOOGLE TRANSLATE API TO TRANSLATE TEXT TO ANY LANGUAGE\n",
    "def textToSpeech(text, speech_language):\n",
    "    LANGUAGES = {\n",
    "    'af': 'afrikaans', 'sq': 'albanian', 'am': 'amharic', 'ar': 'arabic', 'hy': 'armenian', 'az': 'azerbaijani', 'eu': 'basque', 'be': 'belarusian', 'bn': 'bengali', 'bs': 'bosnian',\n",
    "    'bg': 'bulgarian', 'ca': 'catalan', 'ceb': 'cebuano', 'ny': 'chichewa', 'zh-cn': 'chinese (simplified)', 'zh-tw': 'chinese (traditional)', 'co': 'corsican', 'hr': 'croatian',\n",
    "    'cs': 'czech', 'da': 'danish', 'nl': 'dutch', 'en': 'english', 'eo': 'esperanto', 'et': 'estonian', 'tl': 'filipino', 'fi': 'finnish', 'fr': 'french', 'fy': 'frisian',\n",
    "    'gl': 'galician', 'ka': 'georgian', 'de': 'german', 'el': 'greek', 'gu': 'gujarati', 'ht': 'haitian creole', 'ha': 'hausa', 'haw': 'hawaiian', 'iw': 'hebrew', 'he': 'hebrew', 'hi': 'hindi',\n",
    "    'hmn': 'hmong', 'hu': 'hungarian', 'is': 'icelandic', 'ig': 'igbo', 'id': 'indonesian', 'ga': 'irish', 'it': 'italian', 'ja': 'japanese', 'jw': 'javanese',\n",
    "    'kn': 'kannada', 'kk': 'kazakh', 'km': 'khmer', 'ko': 'korean', 'ku': 'kurdish (kurmanji)', 'ky': 'kyrgyz', 'lo': 'lao', 'la': 'latin', 'lv': 'latvian', 'lt': 'lithuanian',\n",
    "    'lb': 'luxembourgish', 'mk': 'macedonian', 'mg': 'malagasy', 'ms': 'malay', 'ml': 'malayalam', 'mt': 'maltese', 'mi': 'maori', 'mr': 'marathi', 'mn': 'mongolian', 'my': 'myanmar (burmese)',\n",
    "    'ne': 'nepali', 'no': 'norwegian', 'or': 'odia', 'ps': 'pashto', 'fa': 'persian', 'pl': 'polish', 'pt': 'portuguese', 'pa': 'punjabi', 'ro': 'romanian',\n",
    "    'ru': 'russian',\n",
    "    'sm': 'samoan',\n",
    "    'gd': 'scots gaelic',\n",
    "    'sr': 'serbian',\n",
    "    'st': 'sesotho',\n",
    "    'sn': 'shona',\n",
    "    'sd': 'sindhi',\n",
    "    'si': 'sinhala',\n",
    "    'sk': 'slovak',\n",
    "    'sl': 'slovenian',\n",
    "    'so': 'somali',\n",
    "    'es': 'spanish',\n",
    "    'su': 'sundanese',\n",
    "    'sw': 'swahili',\n",
    "    'sv': 'swedish',\n",
    "    'tg': 'tajik',\n",
    "    'ta': 'tamil',\n",
    "    'te': 'telugu',\n",
    "    'th': 'thai',\n",
    "    'tr': 'turkish',\n",
    "    'uk': 'ukrainian',\n",
    "    'ur': 'urdu',\n",
    "    'ug': 'uyghur',\n",
    "    'uz': 'uzbek',\n",
    "    'vi': 'vietnamese',\n",
    "    'cy': 'welsh',\n",
    "    'xh': 'xhosa',\n",
    "    'yi': 'yiddish',\n",
    "    'yo': 'yoruba',\n",
    "    'zu': 'zulu'\n",
    "    }\n",
    "\n",
    "# pip3 install googletrans\n",
    "\n",
    "    print(text)\n",
    "    translator = Translator()\n",
    "    language = speech_language\n",
    "    for val in LANGUAGES:\n",
    "        if LANGUAGES[val] == language:\n",
    "            translation = translator.translate(text, dest=language)\n",
    "        # Use gTTS to Store Speech on Buffer\n",
    "        # CONVERTS TEXT TO MP3\n",
    "            tts = gTTS(text=translation.text, lang=val)\n",
    "            tts.save(\"/Users/izzymohamed/Documents/WORK/AFRICA AGILE/Hackathon/afica_agile_team_3_hacakthon_dsml_team/Text-to-Speech/test.mp3\")"
   ]
  },
  {
   "cell_type": "code",
   "execution_count": 27,
   "metadata": {},
   "outputs": [
    {
     "name": "stdout",
     "output_type": "stream",
     "text": [
      "hello world\n"
     ]
    }
   ],
   "source": [
    "textToSpeech('hello world', 'en')"
   ]
  },
  {
   "cell_type": "code",
   "execution_count": null,
   "metadata": {},
   "outputs": [],
   "source": [
    "# Running a single speaker model\n",
    "\n",
    "# Init TTS with the target model name\n",
    "tts = TTS(model_name=\"tts_models/de/thorsten/tacotron2-DDC\", progress_bar=False, gpu=False)\n",
    "# Run TTS\n",
    "tts.tts_to_file(text=\"Ich bin eine Testnachricht.\", file_path='/Users/izzymohamed/Documents/WORK/AFRICA AGILE/Hackathon/afica_agile_team_3_hacakthon_dsml_team/Text-to-Speech')"
   ]
  },
  {
   "cell_type": "code",
   "execution_count": 28,
   "metadata": {},
   "outputs": [],
   "source": [
    "def text_to_speech(text, language, output_file):\n",
    "    \"\"\"\n",
    "    Convert text to speech for a given language and save it as an audio file.\n",
    "\n",
    "    Parameters:\n",
    "        text (str): The text to be converted to speech.\n",
    "        language (str): The language code of the text (e.g., 'en' for English, 'yo' for Yoruba, 'ig' for Igbo, 'ha' for Hausa).\n",
    "        output_file (str): The filename to save the output audio file.\n",
    "    \"\"\"\n",
    "    tts = gTTS(text=text, lang=language, slow=False)\n",
    "    tts.save(output_file)"
   ]
  },
  {
   "cell_type": "code",
   "execution_count": 30,
   "metadata": {},
   "outputs": [],
   "source": [
    "# Example usage:\n",
    "text_to_speech(\"Hello, how are you?\", 'en', 'english_audio.mp3')"
   ]
  },
  {
   "cell_type": "code",
   "execution_count": 31,
   "metadata": {},
   "outputs": [
    {
     "ename": "ValueError",
     "evalue": "Language not supported: yo",
     "output_type": "error",
     "traceback": [
      "\u001b[0;31m---------------------------------------------------------------------------\u001b[0m",
      "\u001b[0;31mValueError\u001b[0m                                Traceback (most recent call last)",
      "Cell \u001b[0;32mIn[31], line 1\u001b[0m\n\u001b[0;32m----> 1\u001b[0m text_to_speech(\u001b[39m\"\u001b[39;49m\u001b[39mBawo ni?\u001b[39;49m\u001b[39m\"\u001b[39;49m, \u001b[39m'\u001b[39;49m\u001b[39myo\u001b[39;49m\u001b[39m'\u001b[39;49m, \u001b[39m'\u001b[39;49m\u001b[39myoruba_audio.mp3\u001b[39;49m\u001b[39m'\u001b[39;49m)\n",
      "Cell \u001b[0;32mIn[28], line 10\u001b[0m, in \u001b[0;36mtext_to_speech\u001b[0;34m(text, language, output_file)\u001b[0m\n\u001b[1;32m      1\u001b[0m \u001b[39mdef\u001b[39;00m \u001b[39mtext_to_speech\u001b[39m(text, language, output_file):\n\u001b[1;32m      2\u001b[0m \u001b[39m    \u001b[39m\u001b[39m\"\"\"\u001b[39;00m\n\u001b[1;32m      3\u001b[0m \u001b[39m    Convert text to speech for a given language and save it as an audio file.\u001b[39;00m\n\u001b[1;32m      4\u001b[0m \n\u001b[0;32m   (...)\u001b[0m\n\u001b[1;32m      8\u001b[0m \u001b[39m        output_file (str): The filename to save the output audio file.\u001b[39;00m\n\u001b[1;32m      9\u001b[0m \u001b[39m    \"\"\"\u001b[39;00m\n\u001b[0;32m---> 10\u001b[0m     tts \u001b[39m=\u001b[39m gTTS(text\u001b[39m=\u001b[39;49mtext, lang\u001b[39m=\u001b[39;49mlanguage, slow\u001b[39m=\u001b[39;49m\u001b[39mFalse\u001b[39;49;00m)\n\u001b[1;32m     11\u001b[0m     tts\u001b[39m.\u001b[39msave(output_file)\n",
      "File \u001b[0;32m~/miniconda/lib/python3.10/site-packages/gtts/tts.py:145\u001b[0m, in \u001b[0;36mgTTS.__init__\u001b[0;34m(self, text, tld, lang, slow, lang_check, pre_processor_funcs, tokenizer_func)\u001b[0m\n\u001b[1;32m    143\u001b[0m     langs \u001b[39m=\u001b[39m tts_langs()\n\u001b[1;32m    144\u001b[0m     \u001b[39mif\u001b[39;00m \u001b[39mself\u001b[39m\u001b[39m.\u001b[39mlang \u001b[39mnot\u001b[39;00m \u001b[39min\u001b[39;00m langs:\n\u001b[0;32m--> 145\u001b[0m         \u001b[39mraise\u001b[39;00m \u001b[39mValueError\u001b[39;00m(\u001b[39m\"\u001b[39m\u001b[39mLanguage not supported: \u001b[39m\u001b[39m%s\u001b[39;00m\u001b[39m\"\u001b[39m \u001b[39m%\u001b[39m lang)\n\u001b[1;32m    146\u001b[0m \u001b[39mexcept\u001b[39;00m \u001b[39mRuntimeError\u001b[39;00m \u001b[39mas\u001b[39;00m e:\n\u001b[1;32m    147\u001b[0m     log\u001b[39m.\u001b[39mdebug(\u001b[39mstr\u001b[39m(e), exc_info\u001b[39m=\u001b[39m\u001b[39mTrue\u001b[39;00m)\n",
      "\u001b[0;31mValueError\u001b[0m: Language not supported: yo"
     ]
    }
   ],
   "source": [
    "text_to_speech(\"Bawo ni?\", 'yo', 'yoruba_audio.mp3')"
   ]
  },
  {
   "cell_type": "code",
   "execution_count": 5,
   "metadata": {},
   "outputs": [
    {
     "ename": "ValueError",
     "evalue": "Language not supported: ig",
     "output_type": "error",
     "traceback": [
      "\u001b[0;31m---------------------------------------------------------------------------\u001b[0m",
      "\u001b[0;31mValueError\u001b[0m                                Traceback (most recent call last)",
      "Cell \u001b[0;32mIn[5], line 1\u001b[0m\n\u001b[0;32m----> 1\u001b[0m text_to_speech(\u001b[39m\"\u001b[39;49m\u001b[39mKedu?\u001b[39;49m\u001b[39m\"\u001b[39;49m, \u001b[39m'\u001b[39;49m\u001b[39mig\u001b[39;49m\u001b[39m'\u001b[39;49m, \u001b[39m'\u001b[39;49m\u001b[39migbo_audio.mp3\u001b[39;49m\u001b[39m'\u001b[39;49m)\n",
      "Cell \u001b[0;32mIn[2], line 10\u001b[0m, in \u001b[0;36mtext_to_speech\u001b[0;34m(text, language, output_file)\u001b[0m\n\u001b[1;32m      1\u001b[0m \u001b[39mdef\u001b[39;00m \u001b[39mtext_to_speech\u001b[39m(text, language, output_file):\n\u001b[1;32m      2\u001b[0m \u001b[39m    \u001b[39m\u001b[39m\"\"\"\u001b[39;00m\n\u001b[1;32m      3\u001b[0m \u001b[39m    Convert text to speech for a given language and save it as an audio file.\u001b[39;00m\n\u001b[1;32m      4\u001b[0m \n\u001b[0;32m   (...)\u001b[0m\n\u001b[1;32m      8\u001b[0m \u001b[39m        output_file (str): The filename to save the output audio file.\u001b[39;00m\n\u001b[1;32m      9\u001b[0m \u001b[39m    \"\"\"\u001b[39;00m\n\u001b[0;32m---> 10\u001b[0m     tts \u001b[39m=\u001b[39m gTTS(text\u001b[39m=\u001b[39;49mtext, lang\u001b[39m=\u001b[39;49mlanguage, slow\u001b[39m=\u001b[39;49m\u001b[39mFalse\u001b[39;49;00m)\n\u001b[1;32m     11\u001b[0m     tts\u001b[39m.\u001b[39msave(output_file)\n",
      "File \u001b[0;32m~/miniconda/lib/python3.10/site-packages/gtts/tts.py:145\u001b[0m, in \u001b[0;36mgTTS.__init__\u001b[0;34m(self, text, tld, lang, slow, lang_check, pre_processor_funcs, tokenizer_func)\u001b[0m\n\u001b[1;32m    143\u001b[0m     langs \u001b[39m=\u001b[39m tts_langs()\n\u001b[1;32m    144\u001b[0m     \u001b[39mif\u001b[39;00m \u001b[39mself\u001b[39m\u001b[39m.\u001b[39mlang \u001b[39mnot\u001b[39;00m \u001b[39min\u001b[39;00m langs:\n\u001b[0;32m--> 145\u001b[0m         \u001b[39mraise\u001b[39;00m \u001b[39mValueError\u001b[39;00m(\u001b[39m\"\u001b[39m\u001b[39mLanguage not supported: \u001b[39m\u001b[39m%s\u001b[39;00m\u001b[39m\"\u001b[39m \u001b[39m%\u001b[39m lang)\n\u001b[1;32m    146\u001b[0m \u001b[39mexcept\u001b[39;00m \u001b[39mRuntimeError\u001b[39;00m \u001b[39mas\u001b[39;00m e:\n\u001b[1;32m    147\u001b[0m     log\u001b[39m.\u001b[39mdebug(\u001b[39mstr\u001b[39m(e), exc_info\u001b[39m=\u001b[39m\u001b[39mTrue\u001b[39;00m)\n",
      "\u001b[0;31mValueError\u001b[0m: Language not supported: ig"
     ]
    }
   ],
   "source": [
    "text_to_speech(\"Kedu?\", 'ig', 'igbo_audio.mp3')"
   ]
  },
  {
   "cell_type": "code",
   "execution_count": 6,
   "metadata": {},
   "outputs": [
    {
     "ename": "ValueError",
     "evalue": "Language not supported: ha",
     "output_type": "error",
     "traceback": [
      "\u001b[0;31m---------------------------------------------------------------------------\u001b[0m",
      "\u001b[0;31mValueError\u001b[0m                                Traceback (most recent call last)",
      "Cell \u001b[0;32mIn[6], line 1\u001b[0m\n\u001b[0;32m----> 1\u001b[0m text_to_speech(\u001b[39m\"\u001b[39;49m\u001b[39mSannu da zuwa?\u001b[39;49m\u001b[39m\"\u001b[39;49m, \u001b[39m'\u001b[39;49m\u001b[39mha\u001b[39;49m\u001b[39m'\u001b[39;49m, \u001b[39m'\u001b[39;49m\u001b[39mhausa_audio.mp3\u001b[39;49m\u001b[39m'\u001b[39;49m)\n",
      "Cell \u001b[0;32mIn[2], line 10\u001b[0m, in \u001b[0;36mtext_to_speech\u001b[0;34m(text, language, output_file)\u001b[0m\n\u001b[1;32m      1\u001b[0m \u001b[39mdef\u001b[39;00m \u001b[39mtext_to_speech\u001b[39m(text, language, output_file):\n\u001b[1;32m      2\u001b[0m \u001b[39m    \u001b[39m\u001b[39m\"\"\"\u001b[39;00m\n\u001b[1;32m      3\u001b[0m \u001b[39m    Convert text to speech for a given language and save it as an audio file.\u001b[39;00m\n\u001b[1;32m      4\u001b[0m \n\u001b[0;32m   (...)\u001b[0m\n\u001b[1;32m      8\u001b[0m \u001b[39m        output_file (str): The filename to save the output audio file.\u001b[39;00m\n\u001b[1;32m      9\u001b[0m \u001b[39m    \"\"\"\u001b[39;00m\n\u001b[0;32m---> 10\u001b[0m     tts \u001b[39m=\u001b[39m gTTS(text\u001b[39m=\u001b[39;49mtext, lang\u001b[39m=\u001b[39;49mlanguage, slow\u001b[39m=\u001b[39;49m\u001b[39mFalse\u001b[39;49;00m)\n\u001b[1;32m     11\u001b[0m     tts\u001b[39m.\u001b[39msave(output_file)\n",
      "File \u001b[0;32m~/miniconda/lib/python3.10/site-packages/gtts/tts.py:145\u001b[0m, in \u001b[0;36mgTTS.__init__\u001b[0;34m(self, text, tld, lang, slow, lang_check, pre_processor_funcs, tokenizer_func)\u001b[0m\n\u001b[1;32m    143\u001b[0m     langs \u001b[39m=\u001b[39m tts_langs()\n\u001b[1;32m    144\u001b[0m     \u001b[39mif\u001b[39;00m \u001b[39mself\u001b[39m\u001b[39m.\u001b[39mlang \u001b[39mnot\u001b[39;00m \u001b[39min\u001b[39;00m langs:\n\u001b[0;32m--> 145\u001b[0m         \u001b[39mraise\u001b[39;00m \u001b[39mValueError\u001b[39;00m(\u001b[39m\"\u001b[39m\u001b[39mLanguage not supported: \u001b[39m\u001b[39m%s\u001b[39;00m\u001b[39m\"\u001b[39m \u001b[39m%\u001b[39m lang)\n\u001b[1;32m    146\u001b[0m \u001b[39mexcept\u001b[39;00m \u001b[39mRuntimeError\u001b[39;00m \u001b[39mas\u001b[39;00m e:\n\u001b[1;32m    147\u001b[0m     log\u001b[39m.\u001b[39mdebug(\u001b[39mstr\u001b[39m(e), exc_info\u001b[39m=\u001b[39m\u001b[39mTrue\u001b[39;00m)\n",
      "\u001b[0;31mValueError\u001b[0m: Language not supported: ha"
     ]
    }
   ],
   "source": [
    "text_to_speech(\"Sannu da zuwa?\", 'ha', 'hausa_audio.mp3')"
   ]
  },
  {
   "cell_type": "code",
   "execution_count": 1,
   "metadata": {},
   "outputs": [
    {
     "ename": "ModuleNotFoundError",
     "evalue": "No module named 'tts'",
     "output_type": "error",
     "traceback": [
      "\u001b[0;31m---------------------------------------------------------------------------\u001b[0m",
      "\u001b[0;31mModuleNotFoundError\u001b[0m                       Traceback (most recent call last)",
      "Cell \u001b[0;32mIn[1], line 1\u001b[0m\n\u001b[0;32m----> 1\u001b[0m \u001b[39mfrom\u001b[39;00m \u001b[39mtts\u001b[39;00m \u001b[39mimport\u001b[39;00m TTS\n\u001b[1;32m      2\u001b[0m \u001b[39mfrom\u001b[39;00m \u001b[39mio\u001b[39;00m \u001b[39mimport\u001b[39;00m BytesIO\n\u001b[1;32m      3\u001b[0m \u001b[39mimport\u001b[39;00m \u001b[39msoundfile\u001b[39;00m \u001b[39mas\u001b[39;00m \u001b[39msf\u001b[39;00m\n",
      "\u001b[0;31mModuleNotFoundError\u001b[0m: No module named 'tts'"
     ]
    }
   ],
   "source": [
    "from tts import TTS\n",
    "from io import BytesIO\n",
    "import soundfile as sf\n",
    "import os"
   ]
  },
  {
   "cell_type": "code",
   "execution_count": 1,
   "metadata": {},
   "outputs": [
    {
     "ename": "ModuleNotFoundError",
     "evalue": "No module named 'tts'",
     "output_type": "error",
     "traceback": [
      "\u001b[0;31m---------------------------------------------------------------------------\u001b[0m",
      "\u001b[0;31mModuleNotFoundError\u001b[0m                       Traceback (most recent call last)",
      "Cell \u001b[0;32mIn[1], line 1\u001b[0m\n\u001b[0;32m----> 1\u001b[0m \u001b[39mfrom\u001b[39;00m \u001b[39mtts\u001b[39;00m \u001b[39mimport\u001b[39;00m TTS\n\u001b[1;32m      2\u001b[0m \u001b[39mfrom\u001b[39;00m \u001b[39mio\u001b[39;00m \u001b[39mimport\u001b[39;00m BytesIO\n\u001b[1;32m      3\u001b[0m \u001b[39mimport\u001b[39;00m \u001b[39msoundfile\u001b[39;00m \u001b[39mas\u001b[39;00m \u001b[39msf\u001b[39;00m\n",
      "\u001b[0;31mModuleNotFoundError\u001b[0m: No module named 'tts'"
     ]
    }
   ],
   "source": [
    "\n",
    "\n",
    "def text_to_speech(text, language, output_file):\n",
    "    \"\"\"\n",
    "    Convert text to speech for a given language and save it as an audio file.\n",
    "\n",
    "    Parameters:\n",
    "        text (str): The text to convert to speech.\n",
    "        language (str): The language code for the language of the text (e.g., 'en' for English, 'yo' for Yoruba).\n",
    "        output_file (str): The filename to save the output audio file.\n",
    "    \"\"\"\n",
    "    tts = TTS(language)\n",
    "\n",
    "    audio_data = tts.get_waveform(text)\n",
    "    output_path = os.path.join(output_folder, output_file)\n",
    "\n",
    "    with open(output_path, 'wb') as audio_file:\n",
    "        audio_file.write(audio_data)\n",
    "\n",
    "    print(f\"Text-to-speech audio saved to {output_file}\")\n",
    "\n",
    "# Sample usage\n",
    "text_to_convert = \"Mo n lo si oko\"  # Replace with your own text\n",
    "language_code = \"yo\"  # 'en' for English, 'yo' for Yoruba, 'ig' for Igbo, 'ha' for Hausa\n",
    "output_filename = \"yoruba_audio.wav\"  # Replace with the desired output filename\n",
    "\n",
    "text_to_speech(text_to_convert, language_code, output_filename)\n"
   ]
  }
 ],
 "metadata": {
  "kernelspec": {
   "display_name": "base",
   "language": "python",
   "name": "python3"
  },
  "language_info": {
   "codemirror_mode": {
    "name": "ipython",
    "version": 3
   },
   "file_extension": ".py",
   "mimetype": "text/x-python",
   "name": "python",
   "nbconvert_exporter": "python",
   "pygments_lexer": "ipython3",
   "version": "3.10.9"
  },
  "orig_nbformat": 4
 },
 "nbformat": 4,
 "nbformat_minor": 2
}
