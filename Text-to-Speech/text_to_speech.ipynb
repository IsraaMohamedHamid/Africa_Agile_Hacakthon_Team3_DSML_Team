{
 "cells": [
  {
   "cell_type": "code",
   "execution_count": 1,
   "metadata": {},
   "outputs": [],
   "source": [
    "from gtts import gTTS\n",
    "import os"
   ]
  },
  {
   "cell_type": "code",
   "execution_count": 2,
   "metadata": {},
   "outputs": [],
   "source": [
    "def text_to_speech(text, language, output_file):\n",
    "    \"\"\"\n",
    "    Convert text to speech for a given language and save it as an audio file.\n",
    "\n",
    "    Parameters:\n",
    "        text (str): The text to be converted to speech.\n",
    "        language (str): The language code of the text (e.g., 'en' for English, 'yo' for Yoruba, 'ig' for Igbo, 'ha' for Hausa).\n",
    "        output_file (str): The filename to save the output audio file.\n",
    "    \"\"\"\n",
    "    tts = gTTS(text=text, lang=language, slow=False)\n",
    "    tts.save(output_file)"
   ]
  },
  {
   "cell_type": "code",
   "execution_count": 3,
   "metadata": {},
   "outputs": [
    {
     "ename": "OSError",
     "evalue": "[Errno 30] Read-only file system: 'english_audio.mp3'",
     "output_type": "error",
     "traceback": [
      "\u001b[0;31m---------------------------------------------------------------------------\u001b[0m",
      "\u001b[0;31mOSError\u001b[0m                                   Traceback (most recent call last)",
      "Cell \u001b[0;32mIn[3], line 2\u001b[0m\n\u001b[1;32m      1\u001b[0m \u001b[39m# Example usage:\u001b[39;00m\n\u001b[0;32m----> 2\u001b[0m text_to_speech(\u001b[39m\"\u001b[39;49m\u001b[39mHello, how are you?\u001b[39;49m\u001b[39m\"\u001b[39;49m, \u001b[39m'\u001b[39;49m\u001b[39men\u001b[39;49m\u001b[39m'\u001b[39;49m, \u001b[39m'\u001b[39;49m\u001b[39menglish_audio.mp3\u001b[39;49m\u001b[39m'\u001b[39;49m)\n\u001b[1;32m      3\u001b[0m text_to_speech(\u001b[39m\"\u001b[39m\u001b[39mBawo ni?\u001b[39m\u001b[39m\"\u001b[39m, \u001b[39m'\u001b[39m\u001b[39myo\u001b[39m\u001b[39m'\u001b[39m, \u001b[39m'\u001b[39m\u001b[39myoruba_audio.mp3\u001b[39m\u001b[39m'\u001b[39m)\n\u001b[1;32m      4\u001b[0m text_to_speech(\u001b[39m\"\u001b[39m\u001b[39mKedu?\u001b[39m\u001b[39m\"\u001b[39m, \u001b[39m'\u001b[39m\u001b[39mig\u001b[39m\u001b[39m'\u001b[39m, \u001b[39m'\u001b[39m\u001b[39migbo_audio.mp3\u001b[39m\u001b[39m'\u001b[39m)\n",
      "Cell \u001b[0;32mIn[2], line 11\u001b[0m, in \u001b[0;36mtext_to_speech\u001b[0;34m(text, language, output_file)\u001b[0m\n\u001b[1;32m      2\u001b[0m \u001b[39m\u001b[39m\u001b[39m\"\"\"\u001b[39;00m\n\u001b[1;32m      3\u001b[0m \u001b[39mConvert text to speech for a given language and save it as an audio file.\u001b[39;00m\n\u001b[1;32m      4\u001b[0m \n\u001b[0;32m   (...)\u001b[0m\n\u001b[1;32m      8\u001b[0m \u001b[39m    output_file (str): The filename to save the output audio file.\u001b[39;00m\n\u001b[1;32m      9\u001b[0m \u001b[39m\"\"\"\u001b[39;00m\n\u001b[1;32m     10\u001b[0m tts \u001b[39m=\u001b[39m gTTS(text\u001b[39m=\u001b[39mtext, lang\u001b[39m=\u001b[39mlanguage, slow\u001b[39m=\u001b[39m\u001b[39mFalse\u001b[39;00m)\n\u001b[0;32m---> 11\u001b[0m tts\u001b[39m.\u001b[39;49msave(output_file)\n",
      "File \u001b[0;32m~/miniconda/lib/python3.10/site-packages/gtts/tts.py:324\u001b[0m, in \u001b[0;36mgTTS.save\u001b[0;34m(self, savefile)\u001b[0m\n\u001b[1;32m    314\u001b[0m \u001b[39mdef\u001b[39;00m \u001b[39msave\u001b[39m(\u001b[39mself\u001b[39m, savefile):\n\u001b[1;32m    315\u001b[0m \u001b[39m    \u001b[39m\u001b[39m\"\"\"Do the TTS API request and write result to file.\u001b[39;00m\n\u001b[1;32m    316\u001b[0m \n\u001b[1;32m    317\u001b[0m \u001b[39m    Args:\u001b[39;00m\n\u001b[0;32m   (...)\u001b[0m\n\u001b[1;32m    322\u001b[0m \n\u001b[1;32m    323\u001b[0m \u001b[39m    \"\"\"\u001b[39;00m\n\u001b[0;32m--> 324\u001b[0m     \u001b[39mwith\u001b[39;00m \u001b[39mopen\u001b[39;49m(\u001b[39mstr\u001b[39;49m(savefile), \u001b[39m\"\u001b[39;49m\u001b[39mwb\u001b[39;49m\u001b[39m\"\u001b[39;49m) \u001b[39mas\u001b[39;00m f:\n\u001b[1;32m    325\u001b[0m         \u001b[39mself\u001b[39m\u001b[39m.\u001b[39mwrite_to_fp(f)\n\u001b[1;32m    326\u001b[0m         log\u001b[39m.\u001b[39mdebug(\u001b[39m\"\u001b[39m\u001b[39mSaved to \u001b[39m\u001b[39m%s\u001b[39;00m\u001b[39m\"\u001b[39m, savefile)\n",
      "\u001b[0;31mOSError\u001b[0m: [Errno 30] Read-only file system: 'english_audio.mp3'"
     ]
    }
   ],
   "source": [
    "# Example usage:\n",
    "text_to_speech(\"Hello, how are you?\", 'en', 'english_audio.mp3')\n",
    "text_to_speech(\"Bawo ni?\", 'yo', 'yoruba_audio.mp3')\n",
    "text_to_speech(\"Kedu?\", 'ig', 'igbo_audio.mp3')\n",
    "text_to_speech(\"Sannu da zuwa?\", 'ha', 'hausa_audio.mp3')"
   ]
  }
 ],
 "metadata": {
  "kernelspec": {
   "display_name": "base",
   "language": "python",
   "name": "python3"
  },
  "language_info": {
   "codemirror_mode": {
    "name": "ipython",
    "version": 3
   },
   "file_extension": ".py",
   "mimetype": "text/x-python",
   "name": "python",
   "nbconvert_exporter": "python",
   "pygments_lexer": "ipython3",
   "version": "3.10.9"
  },
  "orig_nbformat": 4
 },
 "nbformat": 4,
 "nbformat_minor": 2
}
