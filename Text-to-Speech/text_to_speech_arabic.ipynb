{
 "cells": [
  {
   "cell_type": "code",
   "execution_count": 5,
   "metadata": {},
   "outputs": [],
   "source": [
    "from gtts import gTTS\n",
    "import os\n",
    "from IPython.display import display, Audio"
   ]
  },
  {
   "cell_type": "code",
   "execution_count": 6,
   "metadata": {},
   "outputs": [],
   "source": [
    "def text_to_speech_english(text, output_file):\n",
    "    \"\"\"\n",
    "    Convert English text to speech using Google Text-to-Speech (gTTS) and save it as an audio file.\n",
    "\n",
    "    Parameters:\n",
    "        text (str): The English text to convert to speech.\n",
    "        output_file (str): The filename to save the output audio file (e.g., 'output.mp3').\n",
    "    \"\"\"\n",
    "    tts = gTTS(text=text, lang='ar', slow=False)\n",
    "    tts.save(output_file)\n",
    "    audio = Audio(output_file)\n",
    "    display(audio)\n",
    "\n"
   ]
  },
  {
   "cell_type": "code",
   "execution_count": 7,
   "metadata": {},
   "outputs": [],
   "source": [
    "# Example usage:\n",
    "arabic_text = \"مرحباً كيف حالك؟\"\n",
    "output_filename = \"arabic_audio.mp3\""
   ]
  },
  {
   "cell_type": "code",
   "execution_count": 8,
   "metadata": {},
   "outputs": [
    {
     "data": {
      "text/html": [
       "\n",
       "                <audio  controls=\"controls\" >\n",
       "                    <source src=\"data:audio/mpeg;base64,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\" type=\"audio/mpeg\" />\n",
       "                    Your browser does not support the audio element.\n",
       "                </audio>\n",
       "              "
      ],
      "text/plain": [
       "<IPython.lib.display.Audio object>"
      ]
     },
     "metadata": {},
     "output_type": "display_data"
    }
   ],
   "source": [
    "text_to_speech_english(arabic_text, output_filename)"
   ]
  }
 ],
 "metadata": {
  "kernelspec": {
   "display_name": "base",
   "language": "python",
   "name": "python3"
  },
  "language_info": {
   "codemirror_mode": {
    "name": "ipython",
    "version": 3
   },
   "file_extension": ".py",
   "mimetype": "text/x-python",
   "name": "python",
   "nbconvert_exporter": "python",
   "pygments_lexer": "ipython3",
   "version": "3.10.9"
  },
  "orig_nbformat": 4
 },
 "nbformat": 4,
 "nbformat_minor": 2
}
