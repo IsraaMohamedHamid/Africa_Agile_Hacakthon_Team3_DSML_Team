{
 "cells": [
  {
   "cell_type": "code",
   "execution_count": 5,
   "metadata": {},
   "outputs": [],
   "source": [
    "from gtts import gTTS\n",
    "import os\n",
    "from IPython.display import display, Audio"
   ]
  },
  {
   "cell_type": "code",
   "execution_count": 6,
   "metadata": {},
   "outputs": [],
   "source": [
    "def text_to_speech_english(text, output_file):\n",
    "    \"\"\"\n",
    "    Convert English text to speech using Google Text-to-Speech (gTTS) and save it as an audio file.\n",
    "\n",
    "    Parameters:\n",
    "        text (str): The English text to convert to speech.\n",
    "        output_file (str): The filename to save the output audio file (e.g., 'output.mp3').\n",
    "    \"\"\"\n",
    "    tts = gTTS(text=text, lang='en', slow=False)\n",
    "    tts.save(output_file)\n",
    "    audio = Audio(output_file)\n",
    "    display(audio)\n",
    "\n",
    "# Example usage:\n",
    "english_text = \"Hello! I'm here to help you with domestic violence and abuse issues.\"\n",
    "output_filename = \"english_audio.mp3\""
   ]
  },
  {
   "cell_type": "code",
   "execution_count": 7,
   "metadata": {},
   "outputs": [],
   "source": [
    "text_to_speech_english(english_text, output_filename)"
   ]
  }
 ],
 "metadata": {
  "kernelspec": {
   "display_name": "base",
   "language": "python",
   "name": "python3"
  },
  "language_info": {
   "codemirror_mode": {
    "name": "ipython",
    "version": 3
   },
   "file_extension": ".py",
   "mimetype": "text/x-python",
   "name": "python",
   "nbconvert_exporter": "python",
   "pygments_lexer": "ipython3",
   "version": "3.10.9"
  },
  "orig_nbformat": 4
 },
 "nbformat": 4,
 "nbformat_minor": 2
}
