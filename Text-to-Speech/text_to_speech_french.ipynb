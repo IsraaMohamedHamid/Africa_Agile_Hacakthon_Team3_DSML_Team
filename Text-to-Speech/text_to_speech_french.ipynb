{
 "cells": [
  {
   "cell_type": "code",
   "execution_count": 5,
   "metadata": {},
   "outputs": [],
   "source": [
    "from gtts import gTTS\n",
    "import os\n",
    "from IPython.display import display, Audio"
   ]
  },
  {
   "cell_type": "code",
   "execution_count": 6,
   "metadata": {},
   "outputs": [],
   "source": [
    "def text_to_speech_french(text, output_file):\n",
    "    \"\"\"\n",
    "    Convert English text to speech using Google Text-to-Speech (gTTS) and save it as an audio file.\n",
    "\n",
    "    Parameters:\n",
    "        text (str): The English text to convert to speech.\n",
    "        output_file (str): The filename to save the output audio file (e.g., 'output.mp3').\n",
    "    \"\"\"\n",
    "    tts = gTTS(text=text, lang='fr', slow=False)\n",
    "    tts.save(output_file)\n",
    "    audio = Audio(output_file)\n",
    "    display(audio)"
   ]
  },
  {
   "cell_type": "code",
   "execution_count": 7,
   "metadata": {},
   "outputs": [],
   "source": [
    "# Example usage:\n",
    "french_text = \"bonjour\"\n",
    "output_filename = \"french_audio.mp3\""
   ]
  },
  {
   "cell_type": "code",
   "execution_count": 8,
   "metadata": {},
   "outputs": [
    {
     "data": {
      "text/html": [
       "\n",
       "                <audio  controls=\"controls\" >\n",
       "                    <source src=\"data:audio/mpeg;base64,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\" type=\"audio/mpeg\" />\n",
       "                    Your browser does not support the audio element.\n",
       "                </audio>\n",
       "              "
      ],
      "text/plain": [
       "<IPython.lib.display.Audio object>"
      ]
     },
     "metadata": {},
     "output_type": "display_data"
    }
   ],
   "source": [
    "text_to_speech_french(french_text, output_filename)"
   ]
  }
 ],
 "metadata": {
  "kernelspec": {
   "display_name": "base",
   "language": "python",
   "name": "python3"
  },
  "language_info": {
   "codemirror_mode": {
    "name": "ipython",
    "version": 3
   },
   "file_extension": ".py",
   "mimetype": "text/x-python",
   "name": "python",
   "nbconvert_exporter": "python",
   "pygments_lexer": "ipython3",
   "version": "3.10.9"
  },
  "orig_nbformat": 4
 },
 "nbformat": 4,
 "nbformat_minor": 2
}
