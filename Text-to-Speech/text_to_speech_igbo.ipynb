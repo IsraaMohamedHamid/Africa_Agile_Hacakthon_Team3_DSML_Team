{
 "cells": [
  {
   "cell_type": "code",
   "execution_count": null,
   "metadata": {},
   "outputs": [],
   "source": [
    "import pyttsx3\n",
    "import time"
   ]
  },
  {
   "cell_type": "code",
   "execution_count": null,
   "metadata": {},
   "outputs": [],
   "source": [
    "def text_to_speech_igbo(text, output_file=None):\n",
    "    \"\"\"\n",
    "    Convert Igbo text to speech and optionally save the audio to a file.\n",
    "\n",
    "    Parameters:\n",
    "        text (str): The Igbo text to convert to speech.\n",
    "        output_file (str): Optional. The file path to save the audio. If not provided, the audio will not be saved.\n",
    "    \"\"\"\n",
    "\n",
    "    engine = pyttsx3.init()\n",
    "    engine.setProperty('rate', 180)  # Speed of speech (words per minute)\n",
    "    engine.setProperty('voice', 'ig')  # Igbo voice\n",
    "\n",
    "    def on_end(name, completed):\n",
    "        engine.stop()\n",
    "        if output_file:\n",
    "            engine.save_to_file(text, output_file)\n",
    "            engine.runAndWait()\n",
    "\n",
    "    engine.connect('finished-utterance', on_end)\n",
    "    engine.say(text)\n",
    "    engine.startLoop()  # Manually start the event loop"
   ]
  },
  {
   "cell_type": "code",
   "execution_count": null,
   "metadata": {},
   "outputs": [],
   "source": [
    "# Example usage:\n",
    "igbo_text = \"Kedu! Anyị nọ na anyị ga-ahụrụ ịkọkọ na enwere ike iji rapụtara anyị mmadụ.\"\n",
    "text_to_speech_igbo(igbo_text)"
   ]
  }
 ],
 "metadata": {
  "kernelspec": {
   "display_name": "base",
   "language": "python",
   "name": "python3"
  },
  "language_info": {
   "codemirror_mode": {
    "name": "ipython",
    "version": 3
   },
   "file_extension": ".py",
   "mimetype": "text/x-python",
   "name": "python",
   "nbconvert_exporter": "python",
   "pygments_lexer": "ipython3",
   "version": "3.10.9"
  },
  "orig_nbformat": 4
 },
 "nbformat": 4,
 "nbformat_minor": 2
}
