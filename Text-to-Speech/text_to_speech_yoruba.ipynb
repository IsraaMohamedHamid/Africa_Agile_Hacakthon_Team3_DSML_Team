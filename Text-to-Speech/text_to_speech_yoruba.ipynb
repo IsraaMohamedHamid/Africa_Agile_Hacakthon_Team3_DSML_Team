{
 "cells": [
  {
   "cell_type": "code",
   "execution_count": null,
   "metadata": {},
   "outputs": [],
   "source": [
    "import pyttsx3\n",
    "import time"
   ]
  },
  {
   "cell_type": "code",
   "execution_count": null,
   "metadata": {},
   "outputs": [],
   "source": [
    "def text_to_speech_yoruba(text, output_file=None):\n",
    "    \"\"\"\n",
    "    Convert Yoruba text to speech and optionally save the audio to a file.\n",
    "\n",
    "    Parameters:\n",
    "        text (str): The Yoruba text to convert to speech.\n",
    "        output_file (str): Optional. The file path to save the audio. If not provided, the audio will not be saved.\n",
    "    \"\"\"\n",
    "    engine = pyttsx3.init()\n",
    "    engine.setProperty('rate', 192)  # Speed of speech (words per minute)\n",
    "    engine.setProperty('voice', 'yo')  # Yoruba voice\n",
    "\n",
    "    def on_end(name, completed):\n",
    "        engine.stop()\n",
    "        if output_file:\n",
    "            engine.save_to_file(text, output_file)\n",
    "            engine.runAndWait()\n",
    "\n",
    "    engine.connect('finished-utterance', on_end)\n",
    "    engine.say(text)\n",
    "    engine.startLoop()  # Manually start the event loop\n",
    "    # engine.iterate()"
   ]
  },
  {
   "cell_type": "code",
   "execution_count": null,
   "metadata": {},
   "outputs": [],
   "source": [
    "# Example usage:\n",
    "yoruba_text = \"Bawo ni! Mo wa nibi lati ran yin de ibi ti o tobi to si iteji re ati ipe ti o gbajumo.\"\n",
    "text_to_speech_yoruba(yoruba_text)"
   ]
  }
 ],
 "metadata": {
  "kernelspec": {
   "display_name": "base",
   "language": "python",
   "name": "python3"
  },
  "language_info": {
   "codemirror_mode": {
    "name": "ipython",
    "version": 3
   },
   "file_extension": ".py",
   "mimetype": "text/x-python",
   "name": "python",
   "nbconvert_exporter": "python",
   "pygments_lexer": "ipython3",
   "version": "3.10.9"
  },
  "orig_nbformat": 4
 },
 "nbformat": 4,
 "nbformat_minor": 2
}
