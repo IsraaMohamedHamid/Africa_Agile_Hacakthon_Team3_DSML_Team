{
 "cells": [
  {
   "cell_type": "code",
   "execution_count": 5,
   "metadata": {},
   "outputs": [],
   "source": [
    "import objc"
   ]
  },
  {
   "cell_type": "code",
   "execution_count": 6,
   "metadata": {},
   "outputs": [],
   "source": [
    "def text_to_speech(text, language_code):\n",
    "    \"\"\"\n",
    "    Convert text to speech in Yoruba, Igbo, or Hausa.\n",
    "\n",
    "    Parameters:\n",
    "        text (str): The text to convert to speech.\n",
    "        language_code (str): The language code (e.g., 'yo' for Yoruba, 'ig' for Igbo, 'ha' for Hausa).\n",
    "    \"\"\"\n",
    "    NSSpeechSynthesizer = objc.lookUpClass('NSSpeechSynthesizer')\n",
    "    AVSpeechSynthesisVoice = objc.lookUpClass('AVSpeechSynthesisVoice')\n",
    "    NSArray = objc.lookUpClass('NSArray')\n",
    "\n",
    "    # Create a new speech synthesizer\n",
    "    synthesizer = NSSpeechSynthesizer.alloc().initWithVoice_(None)\n",
    "\n",
    "    # Get the available voices\n",
    "    voices = NSSpeechSynthesizer.availableVoices()\n",
    "    voices = NSArray.arrayWithArray_(voices)\n",
    "\n",
    "    # Find the voice that matches the specified language code\n",
    "    selected_voice = None\n",
    "    for voice in voices:\n",
    "        if voice.language() == language_code:\n",
    "            selected_voice = voice\n",
    "            break\n",
    "\n",
    "    # Set the selected voice if found, otherwise use the default voice\n",
    "    if selected_voice is not None:\n",
    "        synthesizer.setVoice_(selected_voice)\n",
    "\n",
    "    # Speak the text\n",
    "    synthesizer.startSpeakingString_(text)\n",
    "\n",
    "    # Wait until the speech finishes\n",
    "    while synthesizer.isSpeaking():\n",
    "        pass\n"
   ]
  },
  {
   "cell_type": "code",
   "execution_count": 7,
   "metadata": {},
   "outputs": [],
   "source": [
    "# Example usage:\n",
    "yoruba_text = \"Bawo ni! Mo wa nibi lati ran yin de ibi ti o tobi to si iteji re ati ipe ti o gbajumo.\"\n",
    "igbo_text = \"Kedu! A dị mma gị. A nata ihe ọ bụla gị na-ekwu na anwụ a nke ọ bụla.\"\n",
    "hausa_text = \"Sannu! Ina nan domin taimakonka tare da matukar ƙaƙaki da laifi.\"\n"
   ]
  },
  {
   "cell_type": "code",
   "execution_count": 8,
   "metadata": {},
   "outputs": [
    {
     "ename": "NameError",
     "evalue": "name 'pyttsx3' is not defined",
     "output_type": "error",
     "traceback": [
      "\u001b[0;31m---------------------------------------------------------------------------\u001b[0m",
      "\u001b[0;31mNameError\u001b[0m                                 Traceback (most recent call last)",
      "Cell \u001b[0;32mIn[8], line 1\u001b[0m\n\u001b[0;32m----> 1\u001b[0m text_to_speech(yoruba_text, \u001b[39m'\u001b[39;49m\u001b[39myo\u001b[39;49m\u001b[39m'\u001b[39;49m)\n\u001b[1;32m      2\u001b[0m text_to_speech(igbo_text, \u001b[39m'\u001b[39m\u001b[39mig\u001b[39m\u001b[39m'\u001b[39m)\n\u001b[1;32m      3\u001b[0m text_to_speech(hausa_text, \u001b[39m'\u001b[39m\u001b[39mha\u001b[39m\u001b[39m'\u001b[39m)\n",
      "Cell \u001b[0;32mIn[6], line 9\u001b[0m, in \u001b[0;36mtext_to_speech\u001b[0;34m(text, language_code)\u001b[0m\n\u001b[1;32m      1\u001b[0m \u001b[39mdef\u001b[39;00m \u001b[39mtext_to_speech\u001b[39m(text, language_code):\n\u001b[1;32m      2\u001b[0m \u001b[39m    \u001b[39m\u001b[39m\"\"\"\u001b[39;00m\n\u001b[1;32m      3\u001b[0m \u001b[39m    Convert text to speech in Yoruba, Igbo, or Hausa.\u001b[39;00m\n\u001b[1;32m      4\u001b[0m \n\u001b[0;32m   (...)\u001b[0m\n\u001b[1;32m      7\u001b[0m \u001b[39m        language_code (str): The language code (e.g., 'yo' for Yoruba, 'ig' for Igbo, 'ha' for Hausa).\u001b[39;00m\n\u001b[1;32m      8\u001b[0m \u001b[39m    \"\"\"\u001b[39;00m\n\u001b[0;32m----> 9\u001b[0m     engine \u001b[39m=\u001b[39m pyttsx3\u001b[39m.\u001b[39minit()\n\u001b[1;32m     10\u001b[0m     voices \u001b[39m=\u001b[39m engine\u001b[39m.\u001b[39mgetProperty(\u001b[39m'\u001b[39m\u001b[39mvoices\u001b[39m\u001b[39m'\u001b[39m)\n\u001b[1;32m     12\u001b[0m     \u001b[39m# Find the voice that matches the specified language code\u001b[39;00m\n",
      "\u001b[0;31mNameError\u001b[0m: name 'pyttsx3' is not defined"
     ]
    }
   ],
   "source": [
    "text_to_speech(yoruba_text, 'yo')\n",
    "text_to_speech(igbo_text, 'ig')\n",
    "text_to_speech(hausa_text, 'ha')"
   ]
  }
 ],
 "metadata": {
  "kernelspec": {
   "display_name": "base",
   "language": "python",
   "name": "python3"
  },
  "language_info": {
   "codemirror_mode": {
    "name": "ipython",
    "version": 3
   },
   "file_extension": ".py",
   "mimetype": "text/x-python",
   "name": "python",
   "nbconvert_exporter": "python",
   "pygments_lexer": "ipython3",
   "version": "3.10.9"
  },
  "orig_nbformat": 4
 },
 "nbformat": 4,
 "nbformat_minor": 2
}
